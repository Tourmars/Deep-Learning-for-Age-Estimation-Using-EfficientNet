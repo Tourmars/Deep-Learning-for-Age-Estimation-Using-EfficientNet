{
 "cells": [
  {
   "cell_type": "markdown",
   "metadata": {
    "colab": {
     "base_uri": "https://localhost:8080/"
    },
    "executionInfo": {
     "elapsed": 826,
     "status": "ok",
     "timestamp": 1616815184698,
     "user": {
      "displayName": "Adeel Intizar",
      "photoUrl": "",
      "userId": "09186370397825092328"
     },
     "user_tz": -300
    },
    "id": "NehyU0QS63d7",
    "outputId": "4a5cb286-aaac-4dcd-d85b-b8f26ce43aa5"
   },
   "source": [
    "# import os\n",
    "import numpy as np\n",
    "import pandas as pd\n",
    "\n",
    "labels = [i for i in os.listdir('/content/drive/MyDrive/Adience_Processed')]\n",
    "len(labels)"
   ]
  },
  {
   "cell_type": "markdown",
   "metadata": {
    "colab": {
     "base_uri": "https://localhost:8080/"
    },
    "executionInfo": {
     "elapsed": 1626,
     "status": "ok",
     "timestamp": 1616815185534,
     "user": {
      "displayName": "Adeel Intizar",
      "photoUrl": "",
      "userId": "09186370397825092328"
     },
     "user_tz": -300
    },
    "id": "WGLy13_J63Zs",
    "outputId": "fcbe282e-0934-4f12-88ae-47d3b127df07"
   },
   "source": [
    "##### age = ['_'.join(i.split(\"_\")[-3:-1]) for i in labels]\n",
    "print(len(age))\n",
    "print(set(age))\n",
    "print(len(set(age)))"
   ]
  },
  {
   "cell_type": "code",
   "execution_count": null,
   "metadata": {
    "id": "eHyQxZDBWmeN"
   },
   "outputs": [],
   "source": [
    "#(0-2, 4-6, 8-13, 15-20, 25-32, 38-43, 48-53, 60-)"
   ]
  },
  {
   "cell_type": "code",
   "execution_count": null,
   "metadata": {
    "id": "nVJ3Qurx63WK"
   },
   "outputs": [],
   "source": [
    "id = {0: '0-2', 1: '4-6', 2: '8-13', 3: '15-20', 4: '25-32', 5: '38-43', 6: '48-53', 7: '60-'}\n",
    "\n",
    "def group_age(x):\n",
    "\n",
    "  if x in ['0_2', '2_2', '3_3']:\n",
    "    return 0\n",
    "  elif x in ['4_6']:\n",
    "    return 1\n",
    "  elif x in ['13_13', '8_12']:\n",
    "    return 2\n",
    "  elif x in ['8_23', '15_20', '22_22']:\n",
    "    return 3\n",
    "  elif x in ['34_34', '29_29', '23_23', '27_32', '25_32', '32_32']:\n",
    "    return 4\n",
    "  elif x in ['35_35', '42_42', '38_48', '36_36', '38_43', '38_42']:\n",
    "    return 5\n",
    "  elif x in ['48_53', '46_46', '45_45', '55_55', '56_56']:\n",
    "    return 6\n",
    "  elif x in ['58_58', '57_57', '60_100']:\n",
    "    return 7\n",
    "  else:\n",
    "    raise RuntimeError(\"Unexpected Age Value\")\n",
    "\n",
    "\n",
    "grouped_age = list(map(group_age, age))"
   ]
  },
  {
   "cell_type": "code",
   "execution_count": null,
   "metadata": {
    "colab": {
     "base_uri": "https://localhost:8080/"
    },
    "executionInfo": {
     "elapsed": 1584,
     "status": "ok",
     "timestamp": 1616815185542,
     "user": {
      "displayName": "Adeel Intizar",
      "photoUrl": "",
      "userId": "09186370397825092328"
     },
     "user_tz": -300
    },
    "id": "jcqmh85W63Sj",
    "outputId": "ed4eb353-e4d7-4220-e553-dfe0feb2904d"
   },
   "outputs": [
    {
     "name": "stdout",
     "output_type": "stream",
     "text": [
      "17058\n",
      "{0, 1, 2, 3, 4, 5, 6, 7}\n",
      "8\n"
     ]
    }
   ],
   "source": [
    "print(len(grouped_age))\n",
    "print(set(grouped_age))\n",
    "print(len(set(grouped_age)))"
   ]
  },
  {
   "cell_type": "code",
   "execution_count": null,
   "metadata": {
    "colab": {
     "base_uri": "https://localhost:8080/"
    },
    "executionInfo": {
     "elapsed": 1575,
     "status": "ok",
     "timestamp": 1616815185549,
     "user": {
      "displayName": "Adeel Intizar",
      "photoUrl": "",
      "userId": "09186370397825092328"
     },
     "user_tz": -300
    },
    "id": "LObYj9Fb63MV",
    "outputId": "0be0ee9f-47f6-48f8-a295-b45034a5e0f3"
   },
   "outputs": [
    {
     "name": "stdout",
     "output_type": "stream",
     "text": [
      "17058\n",
      "17058\n"
     ]
    }
   ],
   "source": [
    "print(len(labels))\n",
    "print(len(grouped_age))"
   ]
  },
  {
   "cell_type": "code",
   "execution_count": null,
   "metadata": {
    "id": "J1SfKP7h8Lr0"
   },
   "outputs": [],
   "source": [
    "df = pd.DataFrame()\n",
    "\n",
    "df[\"file\"] = labels\n",
    "df[\"age\"] = grouped_age"
   ]
  },
  {
   "cell_type": "code",
   "execution_count": null,
   "metadata": {
    "id": "_WpOl60oV7db"
   },
   "outputs": [],
   "source": [
    "del labels, age, grouped_age"
   ]
  },
  {
   "cell_type": "code",
   "execution_count": null,
   "metadata": {
    "colab": {
     "base_uri": "https://localhost:8080/",
     "height": 204
    },
    "executionInfo": {
     "elapsed": 1547,
     "status": "ok",
     "timestamp": 1616815185558,
     "user": {
      "displayName": "Adeel Intizar",
      "photoUrl": "",
      "userId": "09186370397825092328"
     },
     "user_tz": -300
    },
    "id": "Os3T6pCX8Lon",
    "outputId": "e9356297-3420-4209-fd32-8812ac6d2692"
   },
   "outputs": [
    {
     "data": {
      "text/html": [
       "<div>\n",
       "<style scoped>\n",
       "    .dataframe tbody tr th:only-of-type {\n",
       "        vertical-align: middle;\n",
       "    }\n",
       "\n",
       "    .dataframe tbody tr th {\n",
       "        vertical-align: top;\n",
       "    }\n",
       "\n",
       "    .dataframe thead th {\n",
       "        text-align: right;\n",
       "    }\n",
       "</style>\n",
       "<table border=\"1\" class=\"dataframe\">\n",
       "  <thead>\n",
       "    <tr style=\"text-align: right;\">\n",
       "      <th></th>\n",
       "      <th>file</th>\n",
       "      <th>age</th>\n",
       "    </tr>\n",
       "  </thead>\n",
       "  <tbody>\n",
       "    <tr>\n",
       "      <th>0</th>\n",
       "      <td>98_11305749136_8542463c0e_o_48_53_1.jpg</td>\n",
       "      <td>6</td>\n",
       "    </tr>\n",
       "    <tr>\n",
       "      <th>1</th>\n",
       "      <td>97_11305704915_c5319b90c9_o_0_2_1.jpg</td>\n",
       "      <td>0</td>\n",
       "    </tr>\n",
       "    <tr>\n",
       "      <th>2</th>\n",
       "      <td>97_11285988483_9bec8b6362_o_0_2_1.jpg</td>\n",
       "      <td>0</td>\n",
       "    </tr>\n",
       "    <tr>\n",
       "      <th>3</th>\n",
       "      <td>97_11285942746_d4586bae2f_o_0_2_1.jpg</td>\n",
       "      <td>0</td>\n",
       "    </tr>\n",
       "    <tr>\n",
       "      <th>4</th>\n",
       "      <td>99_11309939424_20896ac2fd_o_25_32_0.jpg</td>\n",
       "      <td>4</td>\n",
       "    </tr>\n",
       "  </tbody>\n",
       "</table>\n",
       "</div>"
      ],
      "text/plain": [
       "                                      file  age\n",
       "0  98_11305749136_8542463c0e_o_48_53_1.jpg    6\n",
       "1    97_11305704915_c5319b90c9_o_0_2_1.jpg    0\n",
       "2    97_11285988483_9bec8b6362_o_0_2_1.jpg    0\n",
       "3    97_11285942746_d4586bae2f_o_0_2_1.jpg    0\n",
       "4  99_11309939424_20896ac2fd_o_25_32_0.jpg    4"
      ]
     },
     "execution_count": 9,
     "metadata": {
      "tags": []
     },
     "output_type": "execute_result"
    }
   ],
   "source": [
    "df.head()"
   ]
  },
  {
   "cell_type": "code",
   "execution_count": null,
   "metadata": {
    "colab": {
     "base_uri": "https://localhost:8080/"
    },
    "executionInfo": {
     "elapsed": 1534,
     "status": "ok",
     "timestamp": 1616815185561,
     "user": {
      "displayName": "Adeel Intizar",
      "photoUrl": "",
      "userId": "09186370397825092328"
     },
     "user_tz": -300
    },
    "id": "6VNcRKh48Lkw",
    "outputId": "5f40406f-2d7c-4b78-ed7f-094dd2faf257"
   },
   "outputs": [
    {
     "name": "stdout",
     "output_type": "stream",
     "text": [
      "17058\n",
      "{'jpg'}\n"
     ]
    }
   ],
   "source": [
    "ext = [i.split(\".\")[-1] for i in df['file']]\n",
    "print(len(ext))\n",
    "print(set(ext))"
   ]
  },
  {
   "cell_type": "code",
   "execution_count": null,
   "metadata": {
    "colab": {
     "base_uri": "https://localhost:8080/"
    },
    "executionInfo": {
     "elapsed": 1521,
     "status": "ok",
     "timestamp": 1616815185563,
     "user": {
      "displayName": "Adeel Intizar",
      "photoUrl": "",
      "userId": "09186370397825092328"
     },
     "user_tz": -300
    },
    "id": "VQK6OHs88Lgf",
    "outputId": "fe422bd8-07da-4950-f138-d5eb26aa83c6"
   },
   "outputs": [
    {
     "name": "stdout",
     "output_type": "stream",
     "text": [
      "<class 'pandas.core.frame.DataFrame'>\n",
      "RangeIndex: 17058 entries, 0 to 17057\n",
      "Data columns (total 2 columns):\n",
      " #   Column  Non-Null Count  Dtype \n",
      "---  ------  --------------  ----- \n",
      " 0   file    17058 non-null  object\n",
      " 1   age     17058 non-null  int64 \n",
      "dtypes: int64(1), object(1)\n",
      "memory usage: 266.7+ KB\n"
     ]
    }
   ],
   "source": [
    "df.info()"
   ]
  },
  {
   "cell_type": "code",
   "execution_count": null,
   "metadata": {
    "colab": {
     "base_uri": "https://localhost:8080/",
     "height": 265
    },
    "executionInfo": {
     "elapsed": 2291,
     "status": "ok",
     "timestamp": 1616815186355,
     "user": {
      "displayName": "Adeel Intizar",
      "photoUrl": "",
      "userId": "09186370397825092328"
     },
     "user_tz": -300
    },
    "id": "8wCpLamo63H7",
    "outputId": "d347ab75-3705-4c79-9f7a-854f4df2fdd2"
   },
   "outputs": [
    {
     "data": {
      "image/png": "[encoded data removed]",
      "text/plain": [
       "<Figure size 432x288 with 1 Axes>"
      ]
     },
     "metadata": {
      "needs_background": "light",
      "tags": []
     },
     "output_type": "display_data"
    }
   ],
   "source": [
    "import matplotlib.pyplot as plt\n",
    "\n",
    "plt.hist(df.age, density=True, color='g')\n",
    "plt.show()"
   ]
  },
  {
   "cell_type": "code",
   "execution_count": null,
   "metadata": {
    "colab": {
     "base_uri": "https://localhost:8080/"
    },
    "executionInfo": {
     "elapsed": 2280,
     "status": "ok",
     "timestamp": 1616815186359,
     "user": {
      "displayName": "Adeel Intizar",
      "photoUrl": "",
      "userId": "09186370397825092328"
     },
     "user_tz": -300
    },
    "id": "os4YDLMV8dF3",
    "outputId": "7cc33cf4-fe9c-4114-9665-a1034f4054d6"
   },
   "outputs": [
    {
     "data": {
      "text/plain": [
       "0    2049\n",
       "1    1921\n",
       "2    2121\n",
       "3    1574\n",
       "4    5297\n",
       "5    2447\n",
       "6     882\n",
       "7     767\n",
       "Name: age, dtype: int64"
      ]
     },
     "execution_count": 13,
     "metadata": {
      "tags": []
     },
     "output_type": "execute_result"
    }
   ],
   "source": [
    "df.age.value_counts().sort_index()"
   ]
  },
  {
   "cell_type": "code",
   "execution_count": null,
   "metadata": {
    "id": "kBJP2n3hl7OO"
   },
   "outputs": [],
   "source": [
    "!pip install -q tensorflow_addons"
   ]
  },
  {
   "cell_type": "code",
   "execution_count": null,
   "metadata": {
    "id": "Jl5klvJ8mzC7"
   },
   "outputs": [],
   "source": [
    "from tensorflow.keras.applications import EfficientNetB4\n",
    "from tensorflow.keras.layers import Dense, Flatten, Dropout, BatchNormalization, Conv2D, GlobalAveragePooling2D\n",
    "from tensorflow.keras.callbacks import ModelCheckpoint, LearningRateScheduler, EarlyStopping\n",
    "from tensorflow.keras.regularizers import l2\n",
    "from tensorflow_addons.metrics import F1Score\n",
    "from tensorflow.keras.metrics import Recall, Precision\n",
    "import tensorflow as tf \n",
    "from tensorflow.keras import layers"
   ]
  },
  {
   "cell_type": "code",
   "execution_count": null,
   "metadata": {
    "id": "07NQHThY7DmB"
   },
   "outputs": [],
   "source": [
    "IMG_SIZE = 128\n",
    "\n",
    "from PIL import Image\n",
    "from tensorflow.keras.utils import to_categorical\n",
    "\n",
    "class DataGenerator():\n",
    "    def __init__(self, df):\n",
    "        self.df = df\n",
    "        \n",
    "    def generate_split_indexes(self):\n",
    "        p = np.random.permutation(len(self.df))\n",
    "        train_up_to = int(len(self.df) * 0.15)\n",
    "        train_idx = p[:train_up_to]\n",
    "        valid_idx = p[train_up_to:]\n",
    "        \n",
    "        return train_idx, valid_idx\n",
    "\n",
    "\n",
    "    def norm(self, im):\n",
    "        ma = np.max(im)\n",
    "        mi = np.min(im)\n",
    "        return (im - mi)/(ma - mi)\n",
    "    \n",
    "    def preprocess_image(self, img_path):\n",
    "        \"\"\"\n",
    "        Used to perform some minor preprocessing on the image before inputting into the network.\n",
    "        \"\"\"\n",
    "        im = Image.open('/content/drive/MyDrive/Adience_Processed/' + img_path)\n",
    "        im = im.resize((IMG_SIZE, IMG_SIZE))\n",
    "        return self.norm(im)\n",
    "        \n",
    "    def get_labels(self, image_idx):\n",
    "\n",
    "        labels = []\n",
    "        for idx in image_idx:\n",
    "            person = self.df.iloc[idx]\n",
    "            labels.append(to_categorical(person['age'], 8))\n",
    "        return labels\n",
    "    \n",
    "    \n",
    "    def generate_images(self, image_idx, is_training, batch_size=16):\n",
    "      \n",
    "        # arrays to store our batched data\n",
    "        images, ages = [], []\n",
    "        while 1:\n",
    "            for idx in image_idx:\n",
    "                person = self.df.iloc[idx]\n",
    "                \n",
    "                age = person['age']\n",
    "                fil = person['file']\n",
    "                \n",
    "                im = self.preprocess_image(fil)\n",
    "                \n",
    "                ages.append(to_categorical(age, 8))\n",
    "                images.append(im)\n",
    "                \n",
    "                # yielding condition\n",
    "                if len(images) >= batch_size:\n",
    "                    yield np.array(images), [np.array(ages)]\n",
    "                    images, ages = [], []\n",
    "                    \n",
    "            if not is_training:\n",
    "                break\n",
    "                \n",
    "data_generator = DataGenerator(df)\n",
    "valid_idx, train_idx = data_generator.generate_split_indexes()"
   ]
  },
  {
   "cell_type": "code",
   "execution_count": null,
   "metadata": {
    "colab": {
     "base_uri": "https://localhost:8080/"
    },
    "executionInfo": {
     "elapsed": 5125,
     "status": "ok",
     "timestamp": 1616815189258,
     "user": {
      "displayName": "Adeel Intizar",
      "photoUrl": "",
      "userId": "09186370397825092328"
     },
     "user_tz": -300
    },
    "id": "H3X9YhoU7DW-",
    "outputId": "7a4389c4-38d8-4203-e320-0db29c7758f1"
   },
   "outputs": [
    {
     "name": "stdout",
     "output_type": "stream",
     "text": [
      "14500\n",
      "2558\n"
     ]
    }
   ],
   "source": [
    "print(len(train_idx))\n",
    "print(len(valid_idx))"
   ]
  },
  {
   "cell_type": "code",
   "execution_count": null,
   "metadata": {
    "id": "BEOkXLIYl1On"
   },
   "outputs": [],
   "source": [
    "data_augmentation = tf.keras.Sequential([\n",
    "  layers.experimental.preprocessing.RandomFlip(\"horizontal\"),\n",
    "  layers.experimental.preprocessing.RandomRotation(0.2),\n",
    "  # layers.experimental.preprocessing.RandomZoom(-0.2, -0.2)\n",
    "])"
   ]
  },
  {
   "cell_type": "code",
   "execution_count": null,
   "metadata": {
    "colab": {
     "base_uri": "https://localhost:8080/"
    },
    "executionInfo": {
     "elapsed": 10107,
     "status": "ok",
     "timestamp": 1616815194280,
     "user": {
      "displayName": "Adeel Intizar",
      "photoUrl": "",
      "userId": "09186370397825092328"
     },
     "user_tz": -300
    },
    "id": "AMDJ4dsJm4AP",
    "outputId": "585f0e22-c80d-4b39-d766-a32b1b41693b"
   },
   "outputs": [
    {
     "name": "stdout",
     "output_type": "stream",
     "text": [
      "Model: \"sequential_1\"\n",
      "_________________________________________________________________\n",
      "Layer (type)                 Output Shape              Param #   \n",
      "=================================================================\n",
      "sequential (Sequential)      (None, 128, 128, 3)       0         \n",
      "_________________________________________________________________\n",
      "batch_normalization (BatchNo (None, 128, 128, 3)       12        \n",
      "_________________________________________________________________\n",
      "efficientnetb4 (Functional)  (None, None, None, 1792)  17673823  \n",
      "_________________________________________________________________\n",
      "global_average_pooling2d (Gl (None, 1792)              0         \n",
      "_________________________________________________________________\n",
      "dropout (Dropout)            (None, 1792)              0         \n",
      "_________________________________________________________________\n",
      "dense (Dense)                (None, 8)                 14344     \n",
      "=================================================================\n",
      "Total params: 17,688,179\n",
      "Trainable params: 17,562,966\n",
      "Non-trainable params: 125,213\n",
      "_________________________________________________________________\n"
     ]
    }
   ],
   "source": [
    "base_model = EfficientNetB4(include_top=False)\n",
    "regularizer = l2(0.03)\n",
    "\n",
    "for layer in base_model.layers:\n",
    "    for attr in ['kernel_regularizer']:\n",
    "        if hasattr(layer, attr):\n",
    "          setattr(layer, attr, regularizer)\n",
    "\n",
    "model = tf.keras.Sequential([\n",
    "                             tf.keras.Input(shape = [IMG_SIZE, IMG_SIZE, 3]),\n",
    "                            #  resize,\n",
    "                             data_augmentation,\n",
    "                             BatchNormalization(axis=3),\n",
    "                             base_model,\n",
    "                             GlobalAveragePooling2D(),\n",
    "                             Dropout(0.45),\n",
    "                             Dense(8, activation='softmax')\n",
    "])\n",
    "\n",
    "model.summary()"
   ]
  },
  {
   "cell_type": "code",
   "execution_count": null,
   "metadata": {
    "id": "lhFTwEgsm8F_"
   },
   "outputs": [],
   "source": [
    "model.compile(\n",
    "  loss='categorical_crossentropy',\n",
    "  optimizer=tf.keras.optimizers.Adam(0.001, clipnorm=0.001),\n",
    "  metrics=['categorical_accuracy', Recall(), Precision(), F1Score(8)]\n",
    ")"
   ]
  },
  {
   "cell_type": "code",
   "execution_count": null,
   "metadata": {
    "colab": {
     "base_uri": "https://localhost:8080/"
    },
    "executionInfo": {
     "elapsed": 2919308,
     "status": "ok",
     "timestamp": 1616818109810,
     "user": {
      "displayName": "Adeel Intizar",
      "photoUrl": "",
      "userId": "09186370397825092328"
     },
     "user_tz": -300
    },
    "id": "YTmhDOLDnC9V",
    "outputId": "492799e3-e32e-454a-bd9d-30b98a98d9c8"
   },
   "outputs": [
    {
     "name": "stdout",
     "output_type": "stream",
     "text": [
      "Epoch 1/25\n",
      "\n",
      "Epoch 00001: LearningRateScheduler reducing learning rate to tf.Tensor(0.0008187308, shape=(), dtype=float32).\n",
      "50/50 [==============================] - 767s 15s/step - loss: 1.9009 - categorical_accuracy: 0.2784 - recall: 0.0674 - precision: 0.4283 - f1_score: 0.2104 - val_loss: 2.0482 - val_categorical_accuracy: 0.3109 - val_recall: 0.0000e+00 - val_precision: 0.0000e+00 - val_f1_score: 0.0593\n",
      "\n",
      "Epoch 00001: categorical_accuracy improved from -inf to 0.36125, saving model to /content/drive/MyDrive/Adience/Adience_B4.h5\n",
      "Epoch 2/25\n",
      "\n",
      "Epoch 00002: LearningRateScheduler reducing learning rate to tf.Tensor(0.0006703201, shape=(), dtype=float32).\n",
      "50/50 [==============================] - 557s 11s/step - loss: 1.3263 - categorical_accuracy: 0.4898 - recall: 0.2952 - precision: 0.6298 - f1_score: 0.4065 - val_loss: 2.4178 - val_categorical_accuracy: 0.3113 - val_recall: 0.3113 - val_precision: 0.3113 - val_f1_score: 0.0594\n",
      "\n",
      "Epoch 00002: categorical_accuracy improved from 0.36125 to 0.50828, saving model to /content/drive/MyDrive/Adience/Adience_B4.h5\n",
      "Epoch 3/25\n",
      "\n",
      "Epoch 00003: LearningRateScheduler reducing learning rate to tf.Tensor(0.0005488117, shape=(), dtype=float32).\n",
      "50/50 [==============================] - 180s 4s/step - loss: 1.0961 - categorical_accuracy: 0.5765 - recall: 0.4118 - precision: 0.6929 - f1_score: 0.5204 - val_loss: 2.0195 - val_categorical_accuracy: 0.3109 - val_recall: 0.0000e+00 - val_precision: 0.0000e+00 - val_f1_score: 0.0593\n",
      "\n",
      "Epoch 00003: categorical_accuracy improved from 0.50828 to 0.57984, saving model to /content/drive/MyDrive/Adience/Adience_B4.h5\n",
      "Epoch 4/25\n",
      "\n",
      "Epoch 00004: LearningRateScheduler reducing learning rate to tf.Tensor(0.000449329, shape=(), dtype=float32).\n",
      "50/50 [==============================] - 60s 1s/step - loss: 0.9960 - categorical_accuracy: 0.6221 - recall: 0.4888 - precision: 0.7266 - f1_score: 0.5565 - val_loss: 2.1822 - val_categorical_accuracy: 0.1445 - val_recall: 0.0000e+00 - val_precision: 0.0000e+00 - val_f1_score: 0.0362\n",
      "\n",
      "Epoch 00004: categorical_accuracy improved from 0.57984 to 0.63125, saving model to /content/drive/MyDrive/Adience/Adience_B4.h5\n",
      "Epoch 5/25\n",
      "\n",
      "Epoch 00005: LearningRateScheduler reducing learning rate to tf.Tensor(0.0003678795, shape=(), dtype=float32).\n",
      "50/50 [==============================] - 60s 1s/step - loss: 0.8407 - categorical_accuracy: 0.6774 - recall: 0.5769 - precision: 0.7553 - f1_score: 0.6335 - val_loss: 2.5998 - val_categorical_accuracy: 0.1195 - val_recall: 0.0590 - val_precision: 0.1292 - val_f1_score: 0.0321\n",
      "\n",
      "Epoch 00005: categorical_accuracy improved from 0.63125 to 0.68406, saving model to /content/drive/MyDrive/Adience/Adience_B4.h5\n",
      "Epoch 6/25\n",
      "\n",
      "Epoch 00006: LearningRateScheduler reducing learning rate to tf.Tensor(0.00030119426, shape=(), dtype=float32).\n",
      "50/50 [==============================] - 60s 1s/step - loss: 0.7601 - categorical_accuracy: 0.7012 - recall: 0.6212 - precision: 0.7808 - f1_score: 0.6623 - val_loss: 3.0433 - val_categorical_accuracy: 0.0633 - val_recall: 0.0074 - val_precision: 0.1462 - val_f1_score: 0.0467\n",
      "\n",
      "Epoch 00006: categorical_accuracy improved from 0.68406 to 0.71609, saving model to /content/drive/MyDrive/Adience/Adience_B4.h5\n",
      "Epoch 7/25\n",
      "\n",
      "Epoch 00007: LearningRateScheduler reducing learning rate to tf.Tensor(0.00024659702, shape=(), dtype=float32).\n",
      "50/50 [==============================] - 60s 1s/step - loss: 0.6696 - categorical_accuracy: 0.7470 - recall: 0.6814 - precision: 0.7972 - f1_score: 0.7210 - val_loss: 2.5421 - val_categorical_accuracy: 0.1391 - val_recall: 0.0387 - val_precision: 0.3143 - val_f1_score: 0.1214\n",
      "\n",
      "Epoch 00007: categorical_accuracy improved from 0.71609 to 0.75234, saving model to /content/drive/MyDrive/Adience/Adience_B4.h5\n",
      "Epoch 8/25\n",
      "\n",
      "Epoch 00008: LearningRateScheduler reducing learning rate to tf.Tensor(0.00020189656, shape=(), dtype=float32).\n",
      "50/50 [==============================] - 60s 1s/step - loss: 0.6158 - categorical_accuracy: 0.7708 - recall: 0.7164 - precision: 0.8235 - f1_score: 0.7502 - val_loss: 2.2262 - val_categorical_accuracy: 0.3051 - val_recall: 0.1656 - val_precision: 0.4407 - val_f1_score: 0.2067\n",
      "\n",
      "Epoch 00008: categorical_accuracy improved from 0.75234 to 0.77969, saving model to /content/drive/MyDrive/Adience/Adience_B4.h5\n",
      "Epoch 9/25\n",
      "\n",
      "Epoch 00009: LearningRateScheduler reducing learning rate to tf.Tensor(0.00016529893, shape=(), dtype=float32).\n",
      "50/50 [==============================] - 60s 1s/step - loss: 0.5407 - categorical_accuracy: 0.7980 - recall: 0.7523 - precision: 0.8414 - f1_score: 0.7728 - val_loss: 2.0055 - val_categorical_accuracy: 0.3742 - val_recall: 0.2992 - val_precision: 0.4535 - val_f1_score: 0.2598\n",
      "\n",
      "Epoch 00009: categorical_accuracy improved from 0.77969 to 0.80437, saving model to /content/drive/MyDrive/Adience/Adience_B4.h5\n",
      "Epoch 10/25\n",
      "\n",
      "Epoch 00010: LearningRateScheduler reducing learning rate to tf.Tensor(0.00013533531, shape=(), dtype=float32).\n",
      "50/50 [==============================] - 60s 1s/step - loss: 0.4588 - categorical_accuracy: 0.8292 - recall: 0.7892 - precision: 0.8682 - f1_score: 0.8103 - val_loss: 1.6738 - val_categorical_accuracy: 0.4582 - val_recall: 0.4031 - val_precision: 0.5273 - val_f1_score: 0.3396\n",
      "\n",
      "Epoch 00010: categorical_accuracy improved from 0.80437 to 0.82516, saving model to /content/drive/MyDrive/Adience/Adience_B4.h5\n",
      "Epoch 11/25\n",
      "\n",
      "Epoch 00011: LearningRateScheduler reducing learning rate to tf.Tensor(0.00011080319, shape=(), dtype=float32).\n",
      "50/50 [==============================] - 60s 1s/step - loss: 0.4405 - categorical_accuracy: 0.8405 - recall: 0.8046 - precision: 0.8731 - f1_score: 0.8223 - val_loss: 1.2654 - val_categorical_accuracy: 0.5609 - val_recall: 0.5039 - val_precision: 0.6205 - val_f1_score: 0.4979\n",
      "\n",
      "Epoch 00011: categorical_accuracy improved from 0.82516 to 0.83984, saving model to /content/drive/MyDrive/Adience/Adience_B4.h5\n",
      "Epoch 12/25\n",
      "\n",
      "Epoch 00012: LearningRateScheduler reducing learning rate to tf.Tensor(9.071798e-05, shape=(), dtype=float32).\n",
      "50/50 [==============================] - 60s 1s/step - loss: 0.4290 - categorical_accuracy: 0.8424 - recall: 0.8103 - precision: 0.8763 - f1_score: 0.8259 - val_loss: 1.2579 - val_categorical_accuracy: 0.5809 - val_recall: 0.5258 - val_precision: 0.6237 - val_f1_score: 0.5101\n",
      "\n",
      "Epoch 00012: categorical_accuracy improved from 0.83984 to 0.84750, saving model to /content/drive/MyDrive/Adience/Adience_B4.h5\n",
      "Epoch 13/25\n",
      "\n",
      "Epoch 00013: LearningRateScheduler reducing learning rate to tf.Tensor(7.42736e-05, shape=(), dtype=float32).\n",
      "50/50 [==============================] - 60s 1s/step - loss: 0.3829 - categorical_accuracy: 0.8560 - recall: 0.8319 - precision: 0.8896 - f1_score: 0.8402 - val_loss: 0.8780 - val_categorical_accuracy: 0.6977 - val_recall: 0.6539 - val_precision: 0.7285 - val_f1_score: 0.6533\n",
      "\n",
      "Epoch 00013: categorical_accuracy improved from 0.84750 to 0.85906, saving model to /content/drive/MyDrive/Adience/Adience_B4.h5\n",
      "Epoch 14/25\n",
      "\n",
      "Epoch 00014: LearningRateScheduler reducing learning rate to tf.Tensor(6.081008e-05, shape=(), dtype=float32).\n",
      "50/50 [==============================] - 60s 1s/step - loss: 0.3578 - categorical_accuracy: 0.8702 - recall: 0.8412 - precision: 0.8918 - f1_score: 0.8509 - val_loss: 0.8358 - val_categorical_accuracy: 0.7156 - val_recall: 0.6875 - val_precision: 0.7499 - val_f1_score: 0.6888\n",
      "\n",
      "Epoch 00014: categorical_accuracy improved from 0.85906 to 0.87531, saving model to /content/drive/MyDrive/Adience/Adience_B4.h5\n",
      "Epoch 15/25\n",
      "\n",
      "Epoch 00015: LearningRateScheduler reducing learning rate to tf.Tensor(4.9787086e-05, shape=(), dtype=float32).\n",
      "50/50 [==============================] - 60s 1s/step - loss: 0.3296 - categorical_accuracy: 0.8830 - recall: 0.8565 - precision: 0.9069 - f1_score: 0.8678 - val_loss: 0.7019 - val_categorical_accuracy: 0.7563 - val_recall: 0.7352 - val_precision: 0.7809 - val_f1_score: 0.7298\n",
      "\n",
      "Epoch 00015: categorical_accuracy improved from 0.87531 to 0.88125, saving model to /content/drive/MyDrive/Adience/Adience_B4.h5\n",
      "Epoch 16/25\n",
      "\n",
      "Epoch 00016: LearningRateScheduler reducing learning rate to tf.Tensor(4.076222e-05, shape=(), dtype=float32).\n",
      "50/50 [==============================] - 60s 1s/step - loss: 0.3138 - categorical_accuracy: 0.8838 - recall: 0.8635 - precision: 0.9106 - f1_score: 0.8732 - val_loss: 0.6657 - val_categorical_accuracy: 0.7723 - val_recall: 0.7574 - val_precision: 0.8066 - val_f1_score: 0.7439\n",
      "\n",
      "Epoch 00016: categorical_accuracy improved from 0.88125 to 0.88656, saving model to /content/drive/MyDrive/Adience/Adience_B4.h5\n",
      "Epoch 17/25\n",
      "\n",
      "Epoch 00017: LearningRateScheduler reducing learning rate to tf.Tensor(3.3373286e-05, shape=(), dtype=float32).\n",
      "50/50 [==============================] - 60s 1s/step - loss: 0.3011 - categorical_accuracy: 0.8956 - recall: 0.8726 - precision: 0.9158 - f1_score: 0.8837 - val_loss: 0.6025 - val_categorical_accuracy: 0.7957 - val_recall: 0.7781 - val_precision: 0.8225 - val_f1_score: 0.7709\n",
      "\n",
      "Epoch 00017: categorical_accuracy improved from 0.88656 to 0.89531, saving model to /content/drive/MyDrive/Adience/Adience_B4.h5\n",
      "Epoch 18/25\n",
      "\n",
      "Epoch 00018: LearningRateScheduler reducing learning rate to tf.Tensor(2.7323737e-05, shape=(), dtype=float32).\n",
      "50/50 [==============================] - 60s 1s/step - loss: 0.2787 - categorical_accuracy: 0.8992 - recall: 0.8832 - precision: 0.9168 - f1_score: 0.8930 - val_loss: 0.6092 - val_categorical_accuracy: 0.7937 - val_recall: 0.7746 - val_precision: 0.8174 - val_f1_score: 0.7683\n",
      "\n",
      "Epoch 00018: categorical_accuracy improved from 0.89531 to 0.89891, saving model to /content/drive/MyDrive/Adience/Adience_B4.h5\n",
      "Epoch 19/25\n",
      "\n",
      "Epoch 00019: LearningRateScheduler reducing learning rate to tf.Tensor(2.2370783e-05, shape=(), dtype=float32).\n",
      "50/50 [==============================] - 61s 1s/step - loss: 0.2766 - categorical_accuracy: 0.9013 - recall: 0.8850 - precision: 0.9186 - f1_score: 0.8852 - val_loss: 0.5888 - val_categorical_accuracy: 0.8047 - val_recall: 0.7867 - val_precision: 0.8278 - val_f1_score: 0.7836\n",
      "\n",
      "Epoch 00019: categorical_accuracy improved from 0.89891 to 0.90000, saving model to /content/drive/MyDrive/Adience/Adience_B4.h5\n",
      "Epoch 20/25\n",
      "\n",
      "Epoch 00020: LearningRateScheduler reducing learning rate to tf.Tensor(1.8315648e-05, shape=(), dtype=float32).\n",
      "50/50 [==============================] - 60s 1s/step - loss: 0.2799 - categorical_accuracy: 0.8985 - recall: 0.8815 - precision: 0.9193 - f1_score: 0.8847 - val_loss: 0.5939 - val_categorical_accuracy: 0.8031 - val_recall: 0.7855 - val_precision: 0.8269 - val_f1_score: 0.7781\n",
      "\n",
      "Epoch 00020: categorical_accuracy did not improve from 0.90000\n",
      "Epoch 21/25\n",
      "\n",
      "Epoch 00021: LearningRateScheduler reducing learning rate to tf.Tensor(1.4995585e-05, shape=(), dtype=float32).\n",
      "50/50 [==============================] - 60s 1s/step - loss: 0.2624 - categorical_accuracy: 0.9050 - recall: 0.8864 - precision: 0.9224 - f1_score: 0.8901 - val_loss: 0.5665 - val_categorical_accuracy: 0.8129 - val_recall: 0.7953 - val_precision: 0.8365 - val_f1_score: 0.7869\n",
      "\n",
      "Epoch 00021: categorical_accuracy improved from 0.90000 to 0.90875, saving model to /content/drive/MyDrive/Adience/Adience_B4.h5\n",
      "Epoch 22/25\n",
      "\n",
      "Epoch 00022: LearningRateScheduler reducing learning rate to tf.Tensor(1.2277347e-05, shape=(), dtype=float32).\n",
      "50/50 [==============================] - 60s 1s/step - loss: 0.2537 - categorical_accuracy: 0.9114 - recall: 0.8932 - precision: 0.9321 - f1_score: 0.8973 - val_loss: 0.5632 - val_categorical_accuracy: 0.8176 - val_recall: 0.7984 - val_precision: 0.8346 - val_f1_score: 0.7941\n",
      "\n",
      "Epoch 00022: categorical_accuracy improved from 0.90875 to 0.91078, saving model to /content/drive/MyDrive/Adience/Adience_B4.h5\n",
      "Epoch 23/25\n",
      "\n",
      "Epoch 00023: LearningRateScheduler reducing learning rate to tf.Tensor(1.0051842e-05, shape=(), dtype=float32).\n",
      "50/50 [==============================] - 60s 1s/step - loss: 0.2673 - categorical_accuracy: 0.9059 - recall: 0.8926 - precision: 0.9209 - f1_score: 0.8943 - val_loss: 0.5650 - val_categorical_accuracy: 0.8133 - val_recall: 0.7973 - val_precision: 0.8327 - val_f1_score: 0.7852\n",
      "\n",
      "Epoch 00023: categorical_accuracy did not improve from 0.91078\n",
      "Epoch 24/25\n",
      "\n",
      "Epoch 00024: LearningRateScheduler reducing learning rate to tf.Tensor(8.229752e-06, shape=(), dtype=float32).\n",
      "50/50 [==============================] - 60s 1s/step - loss: 0.2582 - categorical_accuracy: 0.9068 - recall: 0.8896 - precision: 0.9209 - f1_score: 0.8984 - val_loss: 0.5708 - val_categorical_accuracy: 0.8121 - val_recall: 0.7941 - val_precision: 0.8312 - val_f1_score: 0.7857\n",
      "\n",
      "Epoch 00024: categorical_accuracy did not improve from 0.91078\n",
      "Epoch 25/25\n",
      "\n",
      "Epoch 00025: LearningRateScheduler reducing learning rate to tf.Tensor(6.737951e-06, shape=(), dtype=float32).\n",
      "50/50 [==============================] - 60s 1s/step - loss: 0.2660 - categorical_accuracy: 0.9097 - recall: 0.8905 - precision: 0.9239 - f1_score: 0.9060 - val_loss: 0.5661 - val_categorical_accuracy: 0.8145 - val_recall: 0.7957 - val_precision: 0.8331 - val_f1_score: 0.7869\n",
      "\n",
      "Epoch 00025: categorical_accuracy did not improve from 0.91078\n"
     ]
    }
   ],
   "source": [
    "Model_name = \"Adience_B4\"\n",
    "batch_size = 128\n",
    "epochs = 25\n",
    "\n",
    "train_gen = data_generator.generate_images(train_idx, is_training=True, batch_size=batch_size)\n",
    "val_gen = data_generator.generate_images(valid_idx, is_training=True, batch_size=batch_size)\n",
    "\n",
    "def step(epoch, lr):\n",
    "    return lr * tf.math.exp(-0.2)\n",
    "\n",
    "callbacks = [\n",
    "    ModelCheckpoint(f\"/content/drive/MyDrive/Adience/{Model_name}.h5\", monitor='categorical_accuracy', save_best_only=True, verbose=1),\n",
    "    LearningRateScheduler(step, verbose=1),\n",
    "    EarlyStopping(monitor = 'categorical_accuracy', patience = 7, verbose = 1)\n",
    "]\n",
    "\n",
    "history = model.fit(train_gen,\n",
    "                    steps_per_epoch=50,\n",
    "                    epochs=epochs,\n",
    "                    callbacks=callbacks,\n",
    "                    validation_steps = 20,\n",
    "                    validation_data=val_gen)"
   ]
  },
  {
   "cell_type": "code",
   "execution_count": null,
   "metadata": {
    "colab": {
     "base_uri": "https://localhost:8080/"
    },
    "executionInfo": {
     "elapsed": 1371448,
     "status": "ok",
     "timestamp": 1616818185843,
     "user": {
      "displayName": "Adeel Intizar",
      "photoUrl": "",
      "userId": "09186370397825092328"
     },
     "user_tz": -300
    },
    "id": "6gNvST8UuUIG",
    "outputId": "ee61bb86-f006-4637-9148-07b1750a4718"
   },
   "outputs": [
    {
     "name": "stdout",
     "output_type": "stream",
     "text": [
      "\n",
      "Training \t Loss: 0.163  Accuracy: 94.5%  Recall: 93.6%  Precision: 95.5%  F1_Score: 98.5%\n",
      "\n",
      "Testing \t Loss: 0.576  Accuracy: 81.1%  Recall: 79.2%  Precision: 82.9%  F1_Score: 93.9%\n"
     ]
    }
   ],
   "source": [
    "loss, acc, recall, precision, f1_score = model.evaluate(train_gen, verbose=0, steps = len(train_idx)//batch_size)\n",
    "print(\"\\nTraining \\t Loss: {:.3}  Accuracy: {:.3}%  Recall: {:.3}%  Precision: {:.3}%  F1_Score: {:.3}%\".format(loss, acc*100, recall*100, precision*100, max(f1_score)*100))\n",
    "\n",
    "loss, acc, recall, precision, f1_score = model.evaluate(val_gen, verbose=0, steps = len(valid_idx)//batch_size)\n",
    "print(\"\\nTesting \\t Loss: {:.3}  Accuracy: {:.3}%  Recall: {:.3}%  Precision: {:.3}%  F1_Score: {:.3}%\".format(loss, acc*100, recall*100, precision*100, max(f1_score)*100))"
   ]
  },
  {
   "cell_type": "code",
   "execution_count": null,
   "metadata": {
    "colab": {
     "base_uri": "https://localhost:8080/",
     "height": 804
    },
    "executionInfo": {
     "elapsed": 1372094,
     "status": "ok",
     "timestamp": 1616818187083,
     "user": {
      "displayName": "Adeel Intizar",
      "photoUrl": "",
      "userId": "09186370397825092328"
     },
     "user_tz": -300
    },
    "id": "FkPV-Eo7nrOx",
    "outputId": "430fcd2d-257d-4c0a-cf17-fc328c1b96ca"
   },
   "outputs": [
    {
     "data": {
      "image/png": "[encoded data removed]",
      "text/plain": [
       "<Figure size 1440x864 with 4 Axes>"
      ]
     },
     "metadata": {
      "needs_background": "light",
      "tags": []
     },
     "output_type": "display_data"
    }
   ],
   "source": [
    "import matplotlib.pyplot as plt\n",
    "\n",
    "epochs = list(range(25))\n",
    "\n",
    "plt.figure(figsize=(20,12))\n",
    "plt.subplot(2, 2, 1)\n",
    "plt.plot(epochs, history.history['loss'], 'g', label='Training loss')\n",
    "plt.plot(epochs, history.history['val_loss'], 'b', label='Testing loss')\n",
    "plt.xlabel('Epochs', size=12)\n",
    "plt.ylabel('Loss', size=12)\n",
    "plt.title('Training and Testing loss', size=17)\n",
    "plt.legend()\n",
    "\n",
    "plt.subplot(2, 2, 2)\n",
    "plt.plot(epochs, history.history['categorical_accuracy'], 'g', label='Training Accuracy')\n",
    "plt.plot(epochs, history.history['val_categorical_accuracy'], 'b', label='Testing Accuracy')\n",
    "plt.xlabel('Epochs', size=12)\n",
    "plt.ylabel('Accuracy', size=12)\n",
    "plt.title('Training and Testing Accuracy', size=17)\n",
    "plt.legend()\n",
    "\n",
    "plt.subplot(2, 2, 3)\n",
    "plt.plot(epochs, history.history['recall'], 'g', label='Training Recall')\n",
    "plt.plot(epochs, history.history['val_recall'], 'b', label='Testing Recall')\n",
    "plt.xlabel('Epochs', size=12)\n",
    "plt.ylabel('Recall', size=12)\n",
    "plt.title('Training and Testing Recall', size=17)\n",
    "plt.legend()\n",
    "\n",
    "plt.subplot(2, 2, 4)\n",
    "plt.plot(epochs, history.history['precision'], 'g', label='Training Precision')\n",
    "plt.plot(epochs, history.history['val_precision'], 'b', label='Testing Precision')\n",
    "plt.xlabel('Epochs', size=12)\n",
    "plt.ylabel('Precision', size=12)\n",
    "plt.title('Training and Testing Precision', size=17)\n",
    "plt.legend()\n",
    "\n",
    "plt.suptitle('EfficientNet-B4', size = 20)\n",
    "plt.show()"
   ]
  },
  {
   "cell_type": "markdown",
   "metadata": {
    "id": "hvL0gz0c7KSp"
   },
   "source": [
    "### confusion matrix"
   ]
  },
  {
   "cell_type": "code",
   "execution_count": null,
   "metadata": {
    "id": "fJY6FCpb7Jr0"
   },
   "outputs": [],
   "source": [
    "batch_size = 256\n",
    "train_gen = data_generator.generate_images(train_idx, is_training=False, batch_size=batch_size)\n",
    "val_gen = data_generator.generate_images(valid_idx[:2560], is_training=False, batch_size=batch_size)"
   ]
  },
  {
   "cell_type": "code",
   "execution_count": null,
   "metadata": {
    "id": "n1LxqYXy7yeA"
   },
   "outputs": [],
   "source": [
    "import tensorflow as tf\n",
    "from tensorflow_addons.metrics import F1Score\n",
    "from tensorflow.math import confusion_matrix\n",
    "\n",
    "Model_name = \"Adience_B4\"\n",
    "model = tf.keras.models.load_model(f'/content/drive/MyDrive/Adience/{Model_name}.h5', custom_objects={'f1_score':F1Score(8)})"
   ]
  },
  {
   "cell_type": "code",
   "execution_count": null,
   "metadata": {
    "id": "NJh5xit3dTik"
   },
   "outputs": [],
   "source": [
    "y_true = data_generator.get_labels(valid_idx[:2304])"
   ]
  },
  {
   "cell_type": "code",
   "execution_count": null,
   "metadata": {
    "id": "mGbyT7Lx7yYJ"
   },
   "outputs": [],
   "source": [
    "y_pred = model.predict(val_gen)\n",
    "y_true = np.array(y_true)"
   ]
  },
  {
   "cell_type": "code",
   "execution_count": null,
   "metadata": {
    "colab": {
     "base_uri": "https://localhost:8080/"
    },
    "executionInfo": {
     "elapsed": 1379858,
     "status": "ok",
     "timestamp": 1616818210441,
     "user": {
      "displayName": "Adeel Intizar",
      "photoUrl": "",
      "userId": "09186370397825092328"
     },
     "user_tz": -300
    },
    "id": "qMgLCLew7ySv",
    "outputId": "bf0a2167-8733-4087-9ddd-6570c5058594"
   },
   "outputs": [
    {
     "name": "stdout",
     "output_type": "stream",
     "text": [
      "(2304,)\n",
      "(2304,)\n"
     ]
    }
   ],
   "source": [
    "temp_y_pred = np.argmax(y_pred, axis=1)\n",
    "temp_y_true = np.argmax(y_true, axis=1)\n",
    "\n",
    "print(temp_y_pred.shape)\n",
    "print(temp_y_true.shape)"
   ]
  },
  {
   "cell_type": "code",
   "execution_count": null,
   "metadata": {
    "colab": {
     "base_uri": "https://localhost:8080/"
    },
    "executionInfo": {
     "elapsed": 1374671,
     "status": "ok",
     "timestamp": 1616818210442,
     "user": {
      "displayName": "Adeel Intizar",
      "photoUrl": "",
      "userId": "09186370397825092328"
     },
     "user_tz": -300
    },
    "id": "U4pcJZZn782z",
    "outputId": "f46826e2-429a-4302-e62d-cca3ec714789"
   },
   "outputs": [
    {
     "data": {
      "text/plain": [
       "<tf.Tensor: shape=(8, 8), dtype=int32, numpy=\n",
       "array([[263,  12,   0,   0,   1,   1,   0,   0],\n",
       "       [ 11, 219,  19,   1,   4,   1,   0,   0],\n",
       "       [  4,  22, 244,  12,  14,   3,   1,   1],\n",
       "       [  1,   0,  11, 167,  35,   8,   0,   0],\n",
       "       [  0,   1,  11,  27, 616,  49,   7,   1],\n",
       "       [  0,   1,   2,   2,  64, 233,  21,   5],\n",
       "       [  0,   1,   0,   0,  11,  16,  69,  14],\n",
       "       [  0,   0,   0,   0,   6,   9,  12,  71]], dtype=int32)>"
      ]
     },
     "execution_count": 29,
     "metadata": {
      "tags": []
     },
     "output_type": "execute_result"
    }
   ],
   "source": [
    "confusion_matrix(temp_y_true, temp_y_pred)"
   ]
  }
 ],
 "metadata": {
  "accelerator": "GPU",
  "colab": {
   "collapsed_sections": [],
   "name": "Adience_B4.ipynb",
   "provenance": []
  },
  "kernelspec": {
   "display_name": "Python 3",
   "language": "python",
   "name": "python3"
  },
  "language_info": {
   "codemirror_mode": {
    "name": "ipython",
    "version": 3
   },
   "file_extension": ".py",
   "mimetype": "text/x-python",
   "name": "python",
   "nbconvert_exporter": "python",
   "pygments_lexer": "ipython3",
   "version": "3.6.5"
  }
 },
 "nbformat": 4,
 "nbformat_minor": 1
}
