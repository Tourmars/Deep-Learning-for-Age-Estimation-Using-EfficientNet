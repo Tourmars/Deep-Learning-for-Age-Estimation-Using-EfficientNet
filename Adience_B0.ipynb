{
 "cells": [
  {
   "cell_type": "code",
   "execution_count": 1,
   "metadata": {
    "executionInfo": {
     "elapsed": 1496,
     "status": "ok",
     "timestamp": 1616527037133,
     "user": {
      "displayName": "Adeel Intizar",
      "photoUrl": "",
      "userId": "09186370397825092328"
     },
     "user_tz": -300
    },
    "id": "co9mAZ5nDuQa"
   },
   "outputs": [],
   "source": [
    "# import os\n",
    "# import cv2\n",
    "# from facenet import FaceNet\n",
    "\n",
    "\n",
    "# labels = [i for i in os.listdir('/content/drive/MyDrive/NewAdience')]\n",
    "# print(len(labels))\n",
    "\n",
    "# model = FaceNet()\n",
    "\n",
    "# processed = corrupt = 0\n",
    "\n",
    "# for i in labels:\n",
    "#   _, crops = model.crop('/content/drive/MyDrive/NewAdience/' + i)\n",
    "#   if len(crops) > 0:\n",
    "#     cv2.imwrite('/content/drive/MyDrive/Adience_Processed/' + i, crops[0])\n",
    "#     processed += 1\n",
    "    \n",
    "#   else:\n",
    "#     corrupt += 1\n",
    "\n",
    "#   print('\\r' + f'Processed: {processed} \\t Corrupt: {corrupt}', end=\"\")"
   ]
  },
  {
   "cell_type": "code",
   "execution_count": 2,
   "metadata": {
    "executionInfo": {
     "elapsed": 2308,
     "status": "ok",
     "timestamp": 1616527037963,
     "user": {
      "displayName": "Adeel Intizar",
      "photoUrl": "",
      "userId": "09186370397825092328"
     },
     "user_tz": -300
    },
    "id": "OcxKQ2vogCae"
   },
   "outputs": [],
   "source": [
    "# from google.colab import drive\n",
    "# drive.mount('/content/drive')"
   ]
  },
  {
   "cell_type": "code",
   "execution_count": 3,
   "metadata": {
    "colab": {
     "base_uri": "https://localhost:8080/"
    },
    "executionInfo": {
     "elapsed": 2295,
     "status": "ok",
     "timestamp": 1616527037965,
     "user": {
      "displayName": "Adeel Intizar",
      "photoUrl": "",
      "userId": "09186370397825092328"
     },
     "user_tz": -300
    },
    "id": "NehyU0QS63d7",
    "outputId": "5f7f8dd5-6522-4241-a647-d79d37d53cad"
   },
   "outputs": [
    {
     "data": {
      "text/plain": [
       "17058"
      ]
     },
     "execution_count": 3,
     "metadata": {
      "tags": []
     },
     "output_type": "execute_result"
    }
   ],
   "source": [
    "import os\n",
    "import numpy as np\n",
    "import pandas as pd\n",
    "\n",
    "labels = [i for i in os.listdir('/content/drive/MyDrive/Adience_Processed')]\n",
    "len(labels)"
   ]
  },
  {
   "cell_type": "code",
   "execution_count": 4,
   "metadata": {
    "colab": {
     "base_uri": "https://localhost:8080/"
    },
    "executionInfo": {
     "elapsed": 2281,
     "status": "ok",
     "timestamp": 1616527037971,
     "user": {
      "displayName": "Adeel Intizar",
      "photoUrl": "",
      "userId": "09186370397825092328"
     },
     "user_tz": -300
    },
    "id": "WGLy13_J63Zs",
    "outputId": "925c4112-7174-468c-eaed-7ac31e6ce062"
   },
   "outputs": [
    {
     "name": "stdout",
     "output_type": "stream",
     "text": [
      "17058\n",
      "{'38_48', '38_42', '25_32', '42_42', '4_6', '32_32', '27_32', '45_45', '22_22', '0_2', '60_100', '38_43', '8_23', '57_57', '48_53', '29_29', '55_55', '13_13', '2_2', '35_35', '36_36', '23_23', '46_46', '15_20', '58_58', '3_3', '34_34', '56_56', '8_12'}\n",
      "29\n"
     ]
    }
   ],
   "source": [
    "age = ['_'.join(i.split(\"_\")[-3:-1]) for i in labels]\n",
    "print(len(age))\n",
    "print(set(age))\n",
    "print(len(set(age)))"
   ]
  },
  {
   "cell_type": "code",
   "execution_count": 5,
   "metadata": {
    "executionInfo": {
     "elapsed": 2267,
     "status": "ok",
     "timestamp": 1616527037974,
     "user": {
      "displayName": "Adeel Intizar",
      "photoUrl": "",
      "userId": "09186370397825092328"
     },
     "user_tz": -300
    },
    "id": "eHyQxZDBWmeN"
   },
   "outputs": [],
   "source": [
    "#(0-2, 4-6, 8-13, 15-20, 25-32, 38-43, 48-53, 60-)"
   ]
  },
  {
   "cell_type": "code",
   "execution_count": 6,
   "metadata": {
    "executionInfo": {
     "elapsed": 2260,
     "status": "ok",
     "timestamp": 1616527037977,
     "user": {
      "displayName": "Adeel Intizar",
      "photoUrl": "",
      "userId": "09186370397825092328"
     },
     "user_tz": -300
    },
    "id": "nVJ3Qurx63WK"
   },
   "outputs": [],
   "source": [
    "id = {0: '0-2', 1: '4-6', 2: '8-13', 3: '15-20', 4: '25-32', 5: '38-43', 6: '48-53', 7: '60-'}\n",
    "\n",
    "def group_age(x):\n",
    "\n",
    "  if x in ['0_2', '2_2', '3_3']:\n",
    "    return 0\n",
    "  elif x in ['4_6']:\n",
    "    return 1\n",
    "  elif x in ['13_13', '8_12']:\n",
    "    return 2\n",
    "  elif x in ['8_23', '15_20', '22_22']:\n",
    "    return 3\n",
    "  elif x in ['34_34', '29_29', '23_23', '27_32', '25_32', '32_32']:\n",
    "    return 4\n",
    "  elif x in ['35_35', '42_42', '38_48', '36_36', '38_43', '38_42']:\n",
    "    return 5\n",
    "  elif x in ['48_53', '46_46', '45_45', '55_55', '56_56']:\n",
    "    return 6\n",
    "  elif x in ['58_58', '57_57', '60_100']:\n",
    "    return 7\n",
    "  else:\n",
    "    raise RuntimeError(\"Unexpected Age Value\")\n",
    "\n",
    "\n",
    "grouped_age = list(map(group_age, age))"
   ]
  },
  {
   "cell_type": "code",
   "execution_count": 7,
   "metadata": {
    "colab": {
     "base_uri": "https://localhost:8080/"
    },
    "executionInfo": {
     "elapsed": 2248,
     "status": "ok",
     "timestamp": 1616527037978,
     "user": {
      "displayName": "Adeel Intizar",
      "photoUrl": "",
      "userId": "09186370397825092328"
     },
     "user_tz": -300
    },
    "id": "jcqmh85W63Sj",
    "outputId": "64c08037-0af2-4655-9efc-57d6e2c1efbf"
   },
   "outputs": [
    {
     "name": "stdout",
     "output_type": "stream",
     "text": [
      "17058\n",
      "{0, 1, 2, 3, 4, 5, 6, 7}\n",
      "8\n"
     ]
    }
   ],
   "source": [
    "print(len(grouped_age))\n",
    "print(set(grouped_age))\n",
    "print(len(set(grouped_age)))"
   ]
  },
  {
   "cell_type": "code",
   "execution_count": 8,
   "metadata": {
    "colab": {
     "base_uri": "https://localhost:8080/"
    },
    "executionInfo": {
     "elapsed": 2234,
     "status": "ok",
     "timestamp": 1616527037979,
     "user": {
      "displayName": "Adeel Intizar",
      "photoUrl": "",
      "userId": "09186370397825092328"
     },
     "user_tz": -300
    },
    "id": "LObYj9Fb63MV",
    "outputId": "56a36405-da59-4179-d469-165b91de5f57"
   },
   "outputs": [
    {
     "name": "stdout",
     "output_type": "stream",
     "text": [
      "17058\n",
      "17058\n"
     ]
    }
   ],
   "source": [
    "print(len(labels))\n",
    "print(len(grouped_age))"
   ]
  },
  {
   "cell_type": "code",
   "execution_count": 9,
   "metadata": {
    "executionInfo": {
     "elapsed": 2221,
     "status": "ok",
     "timestamp": 1616527037981,
     "user": {
      "displayName": "Adeel Intizar",
      "photoUrl": "",
      "userId": "09186370397825092328"
     },
     "user_tz": -300
    },
    "id": "J1SfKP7h8Lr0"
   },
   "outputs": [],
   "source": [
    "df = pd.DataFrame()\n",
    "\n",
    "df[\"file\"] = labels\n",
    "df[\"age\"] = grouped_age"
   ]
  },
  {
   "cell_type": "code",
   "execution_count": 10,
   "metadata": {
    "executionInfo": {
     "elapsed": 2214,
     "status": "ok",
     "timestamp": 1616527037982,
     "user": {
      "displayName": "Adeel Intizar",
      "photoUrl": "",
      "userId": "09186370397825092328"
     },
     "user_tz": -300
    },
    "id": "_WpOl60oV7db"
   },
   "outputs": [],
   "source": [
    "del labels, age, grouped_age"
   ]
  },
  {
   "cell_type": "code",
   "execution_count": 11,
   "metadata": {
    "colab": {
     "base_uri": "https://localhost:8080/",
     "height": 204
    },
    "executionInfo": {
     "elapsed": 2201,
     "status": "ok",
     "timestamp": 1616527037985,
     "user": {
      "displayName": "Adeel Intizar",
      "photoUrl": "",
      "userId": "09186370397825092328"
     },
     "user_tz": -300
    },
    "id": "Os3T6pCX8Lon",
    "outputId": "91422707-fd9f-4549-a84c-31297f19d888"
   },
   "outputs": [
    {
     "data": {
      "text/html": [
       "<div>\n",
       "<style scoped>\n",
       "    .dataframe tbody tr th:only-of-type {\n",
       "        vertical-align: middle;\n",
       "    }\n",
       "\n",
       "    .dataframe tbody tr th {\n",
       "        vertical-align: top;\n",
       "    }\n",
       "\n",
       "    .dataframe thead th {\n",
       "        text-align: right;\n",
       "    }\n",
       "</style>\n",
       "<table border=\"1\" class=\"dataframe\">\n",
       "  <thead>\n",
       "    <tr style=\"text-align: right;\">\n",
       "      <th></th>\n",
       "      <th>file</th>\n",
       "      <th>age</th>\n",
       "    </tr>\n",
       "  </thead>\n",
       "  <tbody>\n",
       "    <tr>\n",
       "      <th>0</th>\n",
       "      <td>98_11305749136_8542463c0e_o_48_53_1.jpg</td>\n",
       "      <td>6</td>\n",
       "    </tr>\n",
       "    <tr>\n",
       "      <th>1</th>\n",
       "      <td>97_11305704915_c5319b90c9_o_0_2_1.jpg</td>\n",
       "      <td>0</td>\n",
       "    </tr>\n",
       "    <tr>\n",
       "      <th>2</th>\n",
       "      <td>97_11285988483_9bec8b6362_o_0_2_1.jpg</td>\n",
       "      <td>0</td>\n",
       "    </tr>\n",
       "    <tr>\n",
       "      <th>3</th>\n",
       "      <td>97_11285942746_d4586bae2f_o_0_2_1.jpg</td>\n",
       "      <td>0</td>\n",
       "    </tr>\n",
       "    <tr>\n",
       "      <th>4</th>\n",
       "      <td>99_11309939424_20896ac2fd_o_25_32_0.jpg</td>\n",
       "      <td>4</td>\n",
       "    </tr>\n",
       "  </tbody>\n",
       "</table>\n",
       "</div>"
      ],
      "text/plain": [
       "                                      file  age\n",
       "0  98_11305749136_8542463c0e_o_48_53_1.jpg    6\n",
       "1    97_11305704915_c5319b90c9_o_0_2_1.jpg    0\n",
       "2    97_11285988483_9bec8b6362_o_0_2_1.jpg    0\n",
       "3    97_11285942746_d4586bae2f_o_0_2_1.jpg    0\n",
       "4  99_11309939424_20896ac2fd_o_25_32_0.jpg    4"
      ]
     },
     "execution_count": 11,
     "metadata": {
      "tags": []
     },
     "output_type": "execute_result"
    }
   ],
   "source": [
    "df.head()"
   ]
  },
  {
   "cell_type": "code",
   "execution_count": 12,
   "metadata": {
    "colab": {
     "base_uri": "https://localhost:8080/"
    },
    "executionInfo": {
     "elapsed": 2187,
     "status": "ok",
     "timestamp": 1616527037987,
     "user": {
      "displayName": "Adeel Intizar",
      "photoUrl": "",
      "userId": "09186370397825092328"
     },
     "user_tz": -300
    },
    "id": "6VNcRKh48Lkw",
    "outputId": "2119f571-f962-423d-aec4-526296f621d3"
   },
   "outputs": [
    {
     "name": "stdout",
     "output_type": "stream",
     "text": [
      "17058\n",
      "{'jpg'}\n"
     ]
    }
   ],
   "source": [
    "ext = [i.split(\".\")[-1] for i in df['file']]\n",
    "print(len(ext))\n",
    "print(set(ext))"
   ]
  },
  {
   "cell_type": "code",
   "execution_count": 13,
   "metadata": {
    "colab": {
     "base_uri": "https://localhost:8080/"
    },
    "executionInfo": {
     "elapsed": 2175,
     "status": "ok",
     "timestamp": 1616527037989,
     "user": {
      "displayName": "Adeel Intizar",
      "photoUrl": "",
      "userId": "09186370397825092328"
     },
     "user_tz": -300
    },
    "id": "VQK6OHs88Lgf",
    "outputId": "943dc2b2-5c87-4e36-e5ae-4e28582e794a"
   },
   "outputs": [
    {
     "name": "stdout",
     "output_type": "stream",
     "text": [
      "<class 'pandas.core.frame.DataFrame'>\n",
      "RangeIndex: 17058 entries, 0 to 17057\n",
      "Data columns (total 2 columns):\n",
      " #   Column  Non-Null Count  Dtype \n",
      "---  ------  --------------  ----- \n",
      " 0   file    17058 non-null  object\n",
      " 1   age     17058 non-null  int64 \n",
      "dtypes: int64(1), object(1)\n",
      "memory usage: 266.7+ KB\n"
     ]
    }
   ],
   "source": [
    "df.info()"
   ]
  },
  {
   "cell_type": "code",
   "execution_count": 14,
   "metadata": {
    "colab": {
     "base_uri": "https://localhost:8080/",
     "height": 265
    },
    "executionInfo": {
     "elapsed": 2160,
     "status": "ok",
     "timestamp": 1616527037992,
     "user": {
      "displayName": "Adeel Intizar",
      "photoUrl": "",
      "userId": "09186370397825092328"
     },
     "user_tz": -300
    },
    "id": "8wCpLamo63H7",
    "outputId": "4d83481b-20d3-4431-d13f-dd6a9c374bee"
   },
   "outputs": [
    {
     "data": {
      "image/png": "[encoded data removed]",
      "text/plain": [
       "<Figure size 432x288 with 1 Axes>"
      ]
     },
     "metadata": {
      "needs_background": "light",
      "tags": []
     },
     "output_type": "display_data"
    }
   ],
   "source": [
    "import matplotlib.pyplot as plt\n",
    "\n",
    "plt.hist(df.age, density=True, color='g')\n",
    "plt.show()"
   ]
  },
  {
   "cell_type": "code",
   "execution_count": 15,
   "metadata": {
    "colab": {
     "base_uri": "https://localhost:8080/"
    },
    "executionInfo": {
     "elapsed": 2147,
     "status": "ok",
     "timestamp": 1616527037995,
     "user": {
      "displayName": "Adeel Intizar",
      "photoUrl": "",
      "userId": "09186370397825092328"
     },
     "user_tz": -300
    },
    "id": "os4YDLMV8dF3",
    "outputId": "1835d488-0556-4c3b-8fbf-482ce7354da6"
   },
   "outputs": [
    {
     "data": {
      "text/plain": [
       "0    2049\n",
       "1    1921\n",
       "2    2121\n",
       "3    1574\n",
       "4    5297\n",
       "5    2447\n",
       "6     882\n",
       "7     767\n",
       "Name: age, dtype: int64"
      ]
     },
     "execution_count": 15,
     "metadata": {
      "tags": []
     },
     "output_type": "execute_result"
    }
   ],
   "source": [
    "df.age.value_counts().sort_index()"
   ]
  },
  {
   "cell_type": "code",
   "execution_count": 16,
   "metadata": {
    "executionInfo": {
     "elapsed": 6053,
     "status": "ok",
     "timestamp": 1616527041913,
     "user": {
      "displayName": "Adeel Intizar",
      "photoUrl": "",
      "userId": "09186370397825092328"
     },
     "user_tz": -300
    },
    "id": "kBJP2n3hl7OO"
   },
   "outputs": [],
   "source": [
    "!pip install -q tensorflow_addons"
   ]
  },
  {
   "cell_type": "code",
   "execution_count": 17,
   "metadata": {
    "executionInfo": {
     "elapsed": 7555,
     "status": "ok",
     "timestamp": 1616527043423,
     "user": {
      "displayName": "Adeel Intizar",
      "photoUrl": "",
      "userId": "09186370397825092328"
     },
     "user_tz": -300
    },
    "id": "Jl5klvJ8mzC7"
   },
   "outputs": [],
   "source": [
    "from tensorflow.keras.applications import EfficientNetB0\n",
    "from tensorflow.keras.layers import Dense, Flatten, Dropout, BatchNormalization, Conv2D, GlobalAveragePooling2D\n",
    "from tensorflow.keras.callbacks import ModelCheckpoint, LearningRateScheduler, EarlyStopping\n",
    "from tensorflow.keras.regularizers import l2\n",
    "from tensorflow_addons.metrics import F1Score\n",
    "from tensorflow.keras.metrics import Recall, Precision\n",
    "import tensorflow as tf \n",
    "from tensorflow.keras import layers"
   ]
  },
  {
   "cell_type": "code",
   "execution_count": 18,
   "metadata": {
    "executionInfo": {
     "elapsed": 7548,
     "status": "ok",
     "timestamp": 1616527043424,
     "user": {
      "displayName": "Adeel Intizar",
      "photoUrl": "",
      "userId": "09186370397825092328"
     },
     "user_tz": -300
    },
    "id": "07NQHThY7DmB"
   },
   "outputs": [],
   "source": [
    "IMG_SIZE = 128\n",
    "\n",
    "from PIL import Image\n",
    "from tensorflow.keras.utils import to_categorical\n",
    "\n",
    "class DataGenerator():\n",
    "    def __init__(self, df):\n",
    "        self.df = df\n",
    "        \n",
    "    def generate_split_indexes(self):\n",
    "        p = np.random.permutation(len(self.df))\n",
    "        train_up_to = int(len(self.df) * 0.15)\n",
    "        train_idx = p[:train_up_to]\n",
    "        valid_idx = p[train_up_to:]\n",
    "        \n",
    "        return train_idx, valid_idx\n",
    "\n",
    "\n",
    "    def norm(self, im):\n",
    "        ma = np.max(im)\n",
    "        mi = np.min(im)\n",
    "        return (im - mi)/(ma - mi)\n",
    "    \n",
    "    def preprocess_image(self, img_path):\n",
    "        \"\"\"\n",
    "        Used to perform some minor preprocessing on the image before inputting into the network.\n",
    "        \"\"\"\n",
    "        im = Image.open('/content/drive/MyDrive/Adience_Processed/' + img_path)\n",
    "        im = im.resize((IMG_SIZE, IMG_SIZE))\n",
    "        return self.norm(im)\n",
    "        \n",
    "    def get_labels(self, image_idx):\n",
    "\n",
    "        labels = []\n",
    "        for idx in image_idx:\n",
    "            person = self.df.iloc[idx]\n",
    "            labels.append(to_categorical(person['age'], 8))\n",
    "        return labels\n",
    "    \n",
    "    \n",
    "    def generate_images(self, image_idx, is_training, batch_size=16):\n",
    "      \n",
    "        # arrays to store our batched data\n",
    "        images, ages = [], []\n",
    "        while 1:\n",
    "            for idx in image_idx:\n",
    "                person = self.df.iloc[idx]\n",
    "                \n",
    "                age = person['age']\n",
    "                fil = person['file']\n",
    "                \n",
    "                im = self.preprocess_image(fil)\n",
    "                \n",
    "                ages.append(to_categorical(age, 8))\n",
    "                images.append(im)\n",
    "                \n",
    "                # yielding condition\n",
    "                if len(images) >= batch_size:\n",
    "                    yield np.array(images), [np.array(ages)]\n",
    "                    images, ages = [], []\n",
    "                    \n",
    "            if not is_training:\n",
    "                break\n",
    "                \n",
    "data_generator = DataGenerator(df)\n",
    "valid_idx, train_idx = data_generator.generate_split_indexes()"
   ]
  },
  {
   "cell_type": "code",
   "execution_count": 19,
   "metadata": {
    "colab": {
     "base_uri": "https://localhost:8080/"
    },
    "executionInfo": {
     "elapsed": 7539,
     "status": "ok",
     "timestamp": 1616527043425,
     "user": {
      "displayName": "Adeel Intizar",
      "photoUrl": "",
      "userId": "09186370397825092328"
     },
     "user_tz": -300
    },
    "id": "H3X9YhoU7DW-",
    "outputId": "d741b655-73bc-4eac-9a82-0d8b3ea96975"
   },
   "outputs": [
    {
     "name": "stdout",
     "output_type": "stream",
     "text": [
      "14500\n",
      "2558\n"
     ]
    }
   ],
   "source": [
    "print(len(train_idx))\n",
    "print(len(valid_idx))"
   ]
  },
  {
   "cell_type": "code",
   "execution_count": 20,
   "metadata": {
    "executionInfo": {
     "elapsed": 7528,
     "status": "ok",
     "timestamp": 1616527043427,
     "user": {
      "displayName": "Adeel Intizar",
      "photoUrl": "",
      "userId": "09186370397825092328"
     },
     "user_tz": -300
    },
    "id": "BEOkXLIYl1On"
   },
   "outputs": [],
   "source": [
    "data_augmentation = tf.keras.Sequential([\n",
    "  layers.experimental.preprocessing.RandomFlip(\"horizontal\"),\n",
    "  layers.experimental.preprocessing.RandomRotation(0.2),\n",
    "  # layers.experimental.preprocessing.RandomZoom(-0.2, -0.2)\n",
    "])"
   ]
  },
  {
   "cell_type": "code",
   "execution_count": 21,
   "metadata": {
    "colab": {
     "base_uri": "https://localhost:8080/"
    },
    "executionInfo": {
     "elapsed": 11167,
     "status": "ok",
     "timestamp": 1616527047078,
     "user": {
      "displayName": "Adeel Intizar",
      "photoUrl": "",
      "userId": "09186370397825092328"
     },
     "user_tz": -300
    },
    "id": "AMDJ4dsJm4AP",
    "outputId": "72958f1f-634e-467b-b9d2-36cce79dc76f"
   },
   "outputs": [
    {
     "name": "stdout",
     "output_type": "stream",
     "text": [
      "Model: \"sequential_1\"\n",
      "_________________________________________________________________\n",
      "Layer (type)                 Output Shape              Param #   \n",
      "=================================================================\n",
      "sequential (Sequential)      (None, 128, 128, 3)       0         \n",
      "_________________________________________________________________\n",
      "batch_normalization (BatchNo (None, 128, 128, 3)       12        \n",
      "_________________________________________________________________\n",
      "efficientnetb0 (Functional)  (None, None, None, 1280)  4049571   \n",
      "_________________________________________________________________\n",
      "global_average_pooling2d (Gl (None, 1280)              0         \n",
      "_________________________________________________________________\n",
      "dropout (Dropout)            (None, 1280)              0         \n",
      "_________________________________________________________________\n",
      "dense (Dense)                (None, 8)                 10248     \n",
      "=================================================================\n",
      "Total params: 4,059,831\n",
      "Trainable params: 4,017,802\n",
      "Non-trainable params: 42,029\n",
      "_________________________________________________________________\n"
     ]
    }
   ],
   "source": [
    "base_model = EfficientNetB0(include_top=False)\n",
    "regularizer = l2(0.03)\n",
    "\n",
    "for layer in base_model.layers:\n",
    "    for attr in ['kernel_regularizer']:\n",
    "        if hasattr(layer, attr):\n",
    "          setattr(layer, attr, regularizer)\n",
    "\n",
    "model = tf.keras.Sequential([\n",
    "                             tf.keras.Input(shape = [IMG_SIZE, IMG_SIZE, 3]),\n",
    "                            #  resize,\n",
    "                             data_augmentation,\n",
    "                             BatchNormalization(axis=3),\n",
    "                             base_model,\n",
    "                             GlobalAveragePooling2D(),\n",
    "                             Dropout(0.45),\n",
    "                             Dense(8, activation='softmax')\n",
    "])\n",
    "\n",
    "model.summary()"
   ]
  },
  {
   "cell_type": "code",
   "execution_count": 22,
   "metadata": {
    "executionInfo": {
     "elapsed": 11158,
     "status": "ok",
     "timestamp": 1616527047080,
     "user": {
      "displayName": "Adeel Intizar",
      "photoUrl": "",
      "userId": "09186370397825092328"
     },
     "user_tz": -300
    },
    "id": "lhFTwEgsm8F_"
   },
   "outputs": [],
   "source": [
    "model.compile(\n",
    "  loss='categorical_crossentropy',\n",
    "  optimizer=tf.keras.optimizers.Adam(0.001, clipnorm=0.001),\n",
    "  metrics=['categorical_accuracy', Recall(), Precision(), F1Score(8)]\n",
    ")"
   ]
  },
  {
   "cell_type": "code",
   "execution_count": 23,
   "metadata": {
    "colab": {
     "base_uri": "https://localhost:8080/"
    },
    "executionInfo": {
     "elapsed": 1469589,
     "status": "ok",
     "timestamp": 1616528508378,
     "user": {
      "displayName": "Adeel Intizar",
      "photoUrl": "",
      "userId": "09186370397825092328"
     },
     "user_tz": -300
    },
    "id": "YTmhDOLDnC9V",
    "outputId": "5da9cb99-a691-4e14-d8e6-461339cf48af"
   },
   "outputs": [
    {
     "name": "stdout",
     "output_type": "stream",
     "text": [
      "Epoch 1/25\n",
      "\n",
      "Epoch 00001: LearningRateScheduler reducing learning rate to tf.Tensor(0.0008187308, shape=(), dtype=float32).\n",
      "50/50 [==============================] - 78s 1s/step - loss: 1.9169 - categorical_accuracy: 0.2917 - recall: 0.0869 - precision: 0.4929 - f1_score: 0.2148 - val_loss: 2.2311 - val_categorical_accuracy: 0.0387 - val_recall: 0.0000e+00 - val_precision: 0.0000e+00 - val_f1_score: 0.0093\n",
      "\n",
      "Epoch 00001: categorical_accuracy improved from -inf to 0.36234, saving model to /content/drive/MyDrive/Adience/Adience_B0.h5\n",
      "Epoch 2/25\n",
      "\n",
      "Epoch 00002: LearningRateScheduler reducing learning rate to tf.Tensor(0.0006703201, shape=(), dtype=float32).\n",
      "50/50 [==============================] - 56s 1s/step - loss: 1.3669 - categorical_accuracy: 0.4695 - recall: 0.2781 - precision: 0.6378 - f1_score: 0.4046 - val_loss: 2.3079 - val_categorical_accuracy: 0.0391 - val_recall: 0.0000e+00 - val_precision: 0.0000e+00 - val_f1_score: 0.0094\n",
      "\n",
      "Epoch 00002: categorical_accuracy improved from 0.36234 to 0.48188, saving model to /content/drive/MyDrive/Adience/Adience_B0.h5\n",
      "Epoch 3/25\n",
      "\n",
      "Epoch 00003: LearningRateScheduler reducing learning rate to tf.Tensor(0.0005488117, shape=(), dtype=float32).\n",
      "50/50 [==============================] - 56s 1s/step - loss: 1.1787 - categorical_accuracy: 0.5428 - recall: 0.3741 - precision: 0.6802 - f1_score: 0.4633 - val_loss: 2.3603 - val_categorical_accuracy: 0.1270 - val_recall: 0.0000e+00 - val_precision: 0.0000e+00 - val_f1_score: 0.0302\n",
      "\n",
      "Epoch 00003: categorical_accuracy improved from 0.48188 to 0.55781, saving model to /content/drive/MyDrive/Adience/Adience_B0.h5\n",
      "Epoch 4/25\n",
      "\n",
      "Epoch 00004: LearningRateScheduler reducing learning rate to tf.Tensor(0.000449329, shape=(), dtype=float32).\n",
      "50/50 [==============================] - 56s 1s/step - loss: 1.0395 - categorical_accuracy: 0.5822 - recall: 0.4429 - precision: 0.7063 - f1_score: 0.5206 - val_loss: 2.5967 - val_categorical_accuracy: 0.0391 - val_recall: 0.0000e+00 - val_precision: 0.0000e+00 - val_f1_score: 0.0101\n",
      "\n",
      "Epoch 00004: categorical_accuracy improved from 0.55781 to 0.59031, saving model to /content/drive/MyDrive/Adience/Adience_B0.h5\n",
      "Epoch 5/25\n",
      "\n",
      "Epoch 00005: LearningRateScheduler reducing learning rate to tf.Tensor(0.0003678795, shape=(), dtype=float32).\n",
      "50/50 [==============================] - 57s 1s/step - loss: 0.9653 - categorical_accuracy: 0.6268 - recall: 0.4970 - precision: 0.7485 - f1_score: 0.5671 - val_loss: 2.5265 - val_categorical_accuracy: 0.0449 - val_recall: 0.0000e+00 - val_precision: 0.0000e+00 - val_f1_score: 0.0325\n",
      "\n",
      "Epoch 00005: categorical_accuracy improved from 0.59031 to 0.63594, saving model to /content/drive/MyDrive/Adience/Adience_B0.h5\n",
      "Epoch 6/25\n",
      "\n",
      "Epoch 00006: LearningRateScheduler reducing learning rate to tf.Tensor(0.00030119426, shape=(), dtype=float32).\n",
      "50/50 [==============================] - 56s 1s/step - loss: 0.8797 - categorical_accuracy: 0.6519 - recall: 0.5387 - precision: 0.7443 - f1_score: 0.6069 - val_loss: 2.1844 - val_categorical_accuracy: 0.1098 - val_recall: 3.9063e-04 - val_precision: 0.1667 - val_f1_score: 0.0796\n",
      "\n",
      "Epoch 00006: categorical_accuracy improved from 0.63594 to 0.65578, saving model to /content/drive/MyDrive/Adience/Adience_B0.h5\n",
      "Epoch 7/25\n",
      "\n",
      "Epoch 00007: LearningRateScheduler reducing learning rate to tf.Tensor(0.00024659702, shape=(), dtype=float32).\n",
      "50/50 [==============================] - 56s 1s/step - loss: 0.8236 - categorical_accuracy: 0.6873 - recall: 0.5885 - precision: 0.7715 - f1_score: 0.6478 - val_loss: 2.3811 - val_categorical_accuracy: 0.0797 - val_recall: 0.0020 - val_precision: 0.2083 - val_f1_score: 0.0405\n",
      "\n",
      "Epoch 00007: categorical_accuracy improved from 0.65578 to 0.69250, saving model to /content/drive/MyDrive/Adience/Adience_B0.h5\n",
      "Epoch 8/25\n",
      "\n",
      "Epoch 00008: LearningRateScheduler reducing learning rate to tf.Tensor(0.00020189656, shape=(), dtype=float32).\n",
      "50/50 [==============================] - 56s 1s/step - loss: 0.7290 - categorical_accuracy: 0.7163 - recall: 0.6255 - precision: 0.7956 - f1_score: 0.6676 - val_loss: 2.3888 - val_categorical_accuracy: 0.1008 - val_recall: 0.0137 - val_precision: 0.0951 - val_f1_score: 0.0494\n",
      "\n",
      "Epoch 00008: categorical_accuracy improved from 0.69250 to 0.71875, saving model to /content/drive/MyDrive/Adience/Adience_B0.h5\n",
      "Epoch 9/25\n",
      "\n",
      "Epoch 00009: LearningRateScheduler reducing learning rate to tf.Tensor(0.00016529893, shape=(), dtype=float32).\n",
      "50/50 [==============================] - 57s 1s/step - loss: 0.7195 - categorical_accuracy: 0.7312 - recall: 0.6462 - precision: 0.7966 - f1_score: 0.7074 - val_loss: 2.3610 - val_categorical_accuracy: 0.0879 - val_recall: 0.0160 - val_precision: 0.1059 - val_f1_score: 0.0679\n",
      "\n",
      "Epoch 00009: categorical_accuracy improved from 0.71875 to 0.73969, saving model to /content/drive/MyDrive/Adience/Adience_B0.h5\n",
      "Epoch 10/25\n",
      "\n",
      "Epoch 00010: LearningRateScheduler reducing learning rate to tf.Tensor(0.00013533531, shape=(), dtype=float32).\n",
      "50/50 [==============================] - 57s 1s/step - loss: 0.6585 - categorical_accuracy: 0.7572 - recall: 0.6782 - precision: 0.8255 - f1_score: 0.7202 - val_loss: 1.9749 - val_categorical_accuracy: 0.2559 - val_recall: 0.1285 - val_precision: 0.4289 - val_f1_score: 0.2208\n",
      "\n",
      "Epoch 00010: categorical_accuracy improved from 0.73969 to 0.75219, saving model to /content/drive/MyDrive/Adience/Adience_B0.h5\n",
      "Epoch 11/25\n",
      "\n",
      "Epoch 00011: LearningRateScheduler reducing learning rate to tf.Tensor(0.00011080319, shape=(), dtype=float32).\n",
      "50/50 [==============================] - 56s 1s/step - loss: 0.6406 - categorical_accuracy: 0.7574 - recall: 0.6865 - precision: 0.8190 - f1_score: 0.7305 - val_loss: 1.8471 - val_categorical_accuracy: 0.2488 - val_recall: 0.0637 - val_precision: 0.3705 - val_f1_score: 0.2229\n",
      "\n",
      "Epoch 00011: categorical_accuracy improved from 0.75219 to 0.75547, saving model to /content/drive/MyDrive/Adience/Adience_B0.h5\n",
      "Epoch 12/25\n",
      "\n",
      "Epoch 00012: LearningRateScheduler reducing learning rate to tf.Tensor(9.071798e-05, shape=(), dtype=float32).\n",
      "50/50 [==============================] - 56s 1s/step - loss: 0.6151 - categorical_accuracy: 0.7710 - recall: 0.7081 - precision: 0.8274 - f1_score: 0.7350 - val_loss: 1.1931 - val_categorical_accuracy: 0.5434 - val_recall: 0.4426 - val_precision: 0.6201 - val_f1_score: 0.4739\n",
      "\n",
      "Epoch 00012: categorical_accuracy improved from 0.75547 to 0.77047, saving model to /content/drive/MyDrive/Adience/Adience_B0.h5\n",
      "Epoch 13/25\n",
      "\n",
      "Epoch 00013: LearningRateScheduler reducing learning rate to tf.Tensor(7.42736e-05, shape=(), dtype=float32).\n",
      "50/50 [==============================] - 56s 1s/step - loss: 0.6029 - categorical_accuracy: 0.7779 - recall: 0.7115 - precision: 0.8397 - f1_score: 0.7501 - val_loss: 1.0040 - val_categorical_accuracy: 0.6203 - val_recall: 0.5246 - val_precision: 0.6912 - val_f1_score: 0.5565\n",
      "\n",
      "Epoch 00013: categorical_accuracy improved from 0.77047 to 0.78000, saving model to /content/drive/MyDrive/Adience/Adience_B0.h5\n",
      "Epoch 14/25\n",
      "\n",
      "Epoch 00014: LearningRateScheduler reducing learning rate to tf.Tensor(6.081008e-05, shape=(), dtype=float32).\n",
      "50/50 [==============================] - 56s 1s/step - loss: 0.5769 - categorical_accuracy: 0.7904 - recall: 0.7270 - precision: 0.8437 - f1_score: 0.7570 - val_loss: 1.0495 - val_categorical_accuracy: 0.6164 - val_recall: 0.5477 - val_precision: 0.6724 - val_f1_score: 0.5466\n",
      "\n",
      "Epoch 00014: categorical_accuracy improved from 0.78000 to 0.78844, saving model to /content/drive/MyDrive/Adience/Adience_B0.h5\n",
      "Epoch 15/25\n",
      "\n",
      "Epoch 00015: LearningRateScheduler reducing learning rate to tf.Tensor(4.9787086e-05, shape=(), dtype=float32).\n",
      "50/50 [==============================] - 56s 1s/step - loss: 0.5518 - categorical_accuracy: 0.7900 - recall: 0.7295 - precision: 0.8471 - f1_score: 0.7626 - val_loss: 0.8895 - val_categorical_accuracy: 0.6660 - val_recall: 0.6016 - val_precision: 0.7223 - val_f1_score: 0.5997\n",
      "\n",
      "Epoch 00015: categorical_accuracy did not improve from 0.78844\n",
      "Epoch 16/25\n",
      "\n",
      "Epoch 00016: LearningRateScheduler reducing learning rate to tf.Tensor(4.076222e-05, shape=(), dtype=float32).\n",
      "50/50 [==============================] - 56s 1s/step - loss: 0.5817 - categorical_accuracy: 0.7796 - recall: 0.7237 - precision: 0.8312 - f1_score: 0.7507 - val_loss: 0.8408 - val_categorical_accuracy: 0.6855 - val_recall: 0.6262 - val_precision: 0.7484 - val_f1_score: 0.6281\n",
      "\n",
      "Epoch 00016: categorical_accuracy did not improve from 0.78844\n",
      "Epoch 17/25\n",
      "\n",
      "Epoch 00017: LearningRateScheduler reducing learning rate to tf.Tensor(3.3373286e-05, shape=(), dtype=float32).\n",
      "50/50 [==============================] - 55s 1s/step - loss: 0.5350 - categorical_accuracy: 0.8036 - recall: 0.7486 - precision: 0.8565 - f1_score: 0.7736 - val_loss: 0.8332 - val_categorical_accuracy: 0.6906 - val_recall: 0.6359 - val_precision: 0.7441 - val_f1_score: 0.6503\n",
      "\n",
      "Epoch 00017: categorical_accuracy improved from 0.78844 to 0.79859, saving model to /content/drive/MyDrive/Adience/Adience_B0.h5\n",
      "Epoch 18/25\n",
      "\n",
      "Epoch 00018: LearningRateScheduler reducing learning rate to tf.Tensor(2.7323737e-05, shape=(), dtype=float32).\n",
      "50/50 [==============================] - 56s 1s/step - loss: 0.5333 - categorical_accuracy: 0.7960 - recall: 0.7421 - precision: 0.8454 - f1_score: 0.7720 - val_loss: 1.0010 - val_categorical_accuracy: 0.6355 - val_recall: 0.5738 - val_precision: 0.6848 - val_f1_score: 0.5952\n",
      "\n",
      "Epoch 00018: categorical_accuracy did not improve from 0.79859\n",
      "Epoch 19/25\n",
      "\n",
      "Epoch 00019: LearningRateScheduler reducing learning rate to tf.Tensor(2.2370783e-05, shape=(), dtype=float32).\n",
      "50/50 [==============================] - 56s 1s/step - loss: 0.4939 - categorical_accuracy: 0.8176 - recall: 0.7693 - precision: 0.8651 - f1_score: 0.7869 - val_loss: 0.7116 - val_categorical_accuracy: 0.7437 - val_recall: 0.7020 - val_precision: 0.7937 - val_f1_score: 0.6966\n",
      "\n",
      "Epoch 00019: categorical_accuracy improved from 0.79859 to 0.80719, saving model to /content/drive/MyDrive/Adience/Adience_B0.h5\n",
      "Epoch 20/25\n",
      "\n",
      "Epoch 00020: LearningRateScheduler reducing learning rate to tf.Tensor(1.8315648e-05, shape=(), dtype=float32).\n",
      "50/50 [==============================] - 56s 1s/step - loss: 0.5360 - categorical_accuracy: 0.7944 - recall: 0.7438 - precision: 0.8516 - f1_score: 0.7720 - val_loss: 0.7756 - val_categorical_accuracy: 0.7113 - val_recall: 0.6602 - val_precision: 0.7578 - val_f1_score: 0.6737\n",
      "\n",
      "Epoch 00020: categorical_accuracy did not improve from 0.80719\n",
      "Epoch 21/25\n",
      "\n",
      "Epoch 00021: LearningRateScheduler reducing learning rate to tf.Tensor(1.4995585e-05, shape=(), dtype=float32).\n",
      "50/50 [==============================] - 57s 1s/step - loss: 0.5342 - categorical_accuracy: 0.7980 - recall: 0.7449 - precision: 0.8500 - f1_score: 0.7734 - val_loss: 0.6963 - val_categorical_accuracy: 0.7516 - val_recall: 0.7051 - val_precision: 0.7945 - val_f1_score: 0.7084\n",
      "\n",
      "Epoch 00021: categorical_accuracy did not improve from 0.80719\n",
      "Epoch 22/25\n",
      "\n",
      "Epoch 00022: LearningRateScheduler reducing learning rate to tf.Tensor(1.2277347e-05, shape=(), dtype=float32).\n",
      "50/50 [==============================] - 56s 1s/step - loss: 0.5091 - categorical_accuracy: 0.8172 - recall: 0.7568 - precision: 0.8629 - f1_score: 0.7971 - val_loss: 0.7055 - val_categorical_accuracy: 0.7410 - val_recall: 0.6898 - val_precision: 0.7898 - val_f1_score: 0.7032\n",
      "\n",
      "Epoch 00022: categorical_accuracy improved from 0.80719 to 0.80828, saving model to /content/drive/MyDrive/Adience/Adience_B0.h5\n",
      "Epoch 23/25\n",
      "\n",
      "Epoch 00023: LearningRateScheduler reducing learning rate to tf.Tensor(1.0051842e-05, shape=(), dtype=float32).\n",
      "50/50 [==============================] - 56s 1s/step - loss: 0.5107 - categorical_accuracy: 0.8077 - recall: 0.7574 - precision: 0.8611 - f1_score: 0.7729 - val_loss: 0.6821 - val_categorical_accuracy: 0.7508 - val_recall: 0.7043 - val_precision: 0.7978 - val_f1_score: 0.7075\n",
      "\n",
      "Epoch 00023: categorical_accuracy did not improve from 0.80828\n",
      "Epoch 24/25\n",
      "\n",
      "Epoch 00024: LearningRateScheduler reducing learning rate to tf.Tensor(8.229752e-06, shape=(), dtype=float32).\n",
      "50/50 [==============================] - 56s 1s/step - loss: 0.4856 - categorical_accuracy: 0.8193 - recall: 0.7741 - precision: 0.8674 - f1_score: 0.8010 - val_loss: 0.6764 - val_categorical_accuracy: 0.7531 - val_recall: 0.7012 - val_precision: 0.7996 - val_f1_score: 0.7085\n",
      "\n",
      "Epoch 00024: categorical_accuracy improved from 0.80828 to 0.81203, saving model to /content/drive/MyDrive/Adience/Adience_B0.h5\n",
      "Epoch 25/25\n",
      "\n",
      "Epoch 00025: LearningRateScheduler reducing learning rate to tf.Tensor(6.737951e-06, shape=(), dtype=float32).\n",
      "50/50 [==============================] - 58s 1s/step - loss: 0.5425 - categorical_accuracy: 0.7966 - recall: 0.7465 - precision: 0.8489 - f1_score: 0.7671 - val_loss: 0.6732 - val_categorical_accuracy: 0.7523 - val_recall: 0.7012 - val_precision: 0.8006 - val_f1_score: 0.7119\n",
      "\n",
      "Epoch 00025: categorical_accuracy did not improve from 0.81203\n"
     ]
    }
   ],
   "source": [
    "Model_name = \"Adience_B0\"\n",
    "batch_size = 128\n",
    "epochs = 25\n",
    "\n",
    "train_gen = data_generator.generate_images(train_idx, is_training=True, batch_size=batch_size)\n",
    "val_gen = data_generator.generate_images(valid_idx, is_training=True, batch_size=batch_size)\n",
    "\n",
    "def step(epoch, lr):\n",
    "    return lr * tf.math.exp(-0.2)\n",
    "\n",
    "callbacks = [\n",
    "    ModelCheckpoint(f\"/content/drive/MyDrive/Adience/{Model_name}.h5\", monitor='categorical_accuracy', save_best_only=True, verbose=1),\n",
    "    LearningRateScheduler(step, verbose=1),\n",
    "    EarlyStopping(monitor = 'categorical_accuracy', patience = 7, verbose = 1)\n",
    "]\n",
    "\n",
    "history = model.fit(train_gen,\n",
    "                    steps_per_epoch=50,\n",
    "                    epochs=epochs,\n",
    "                    callbacks=callbacks,\n",
    "                    validation_steps = 20,\n",
    "                    validation_data=val_gen)"
   ]
  },
  {
   "cell_type": "code",
   "execution_count": 24,
   "metadata": {
    "colab": {
     "base_uri": "https://localhost:8080/"
    },
    "executionInfo": {
     "elapsed": 90310,
     "status": "ok",
     "timestamp": 1616528733705,
     "user": {
      "displayName": "Adeel Intizar",
      "photoUrl": "",
      "userId": "09186370397825092328"
     },
     "user_tz": -300
    },
    "id": "6gNvST8UuUIG",
    "outputId": "5f2c1e1f-cbdd-4c96-b688-7de156f9cdcb"
   },
   "outputs": [
    {
     "name": "stdout",
     "output_type": "stream",
     "text": [
      "\n",
      "Training \t Loss: 0.417  Accuracy: 84.9%  Recall: 80.9%  Precision: 88.8%  F1_Score: 95.5%\n",
      "\n",
      "Testing \t Loss: 0.681  Accuracy: 74.9%  Recall: 69.8%  Precision: 79.8%  F1_Score: 88.7%\n"
     ]
    }
   ],
   "source": [
    "loss, acc, recall, precision, f1_score = model.evaluate(train_gen, verbose=0, steps = len(train_idx)//batch_size)\n",
    "print(\"\\nTraining \\t Loss: {:.3}  Accuracy: {:.3}%  Recall: {:.3}%  Precision: {:.3}%  F1_Score: {:.3}%\".format(loss, acc*100, recall*100, precision*100, max(f1_score)*100))\n",
    "\n",
    "loss, acc, recall, precision, f1_score = model.evaluate(val_gen, verbose=0, steps = len(valid_idx)//batch_size)\n",
    "print(\"\\nTesting \\t Loss: {:.3}  Accuracy: {:.3}%  Recall: {:.3}%  Precision: {:.3}%  F1_Score: {:.3}%\".format(loss, acc*100, recall*100, precision*100, max(f1_score)*100))"
   ]
  },
  {
   "cell_type": "code",
   "execution_count": 25,
   "metadata": {
    "colab": {
     "base_uri": "https://localhost:8080/",
     "height": 804
    },
    "executionInfo": {
     "elapsed": 54325,
     "status": "ok",
     "timestamp": 1616528735176,
     "user": {
      "displayName": "Adeel Intizar",
      "photoUrl": "",
      "userId": "09186370397825092328"
     },
     "user_tz": -300
    },
    "id": "FkPV-Eo7nrOx",
    "outputId": "42a336fe-0c38-46f3-899b-6581425248d6"
   },
   "outputs": [
    {
     "data": {
      "image/png": "[encoded data removed]",
      "text/plain": [
       "<Figure size 1440x864 with 4 Axes>"
      ]
     },
     "metadata": {
      "needs_background": "light",
      "tags": []
     },
     "output_type": "display_data"
    }
   ],
   "source": [
    "import matplotlib.pyplot as plt\n",
    "\n",
    "epochs = list(range(25))\n",
    "\n",
    "plt.figure(figsize=(20,12))\n",
    "plt.subplot(2, 2, 1)\n",
    "plt.plot(epochs, history.history['loss'], 'g', label='Training loss')\n",
    "plt.plot(epochs, history.history['val_loss'], 'b', label='Testing loss')\n",
    "plt.xlabel('Epochs', size=12)\n",
    "plt.ylabel('Loss', size=12)\n",
    "plt.title('Training and Testing loss', size=17)\n",
    "plt.legend()\n",
    "\n",
    "plt.subplot(2, 2, 2)\n",
    "plt.plot(epochs, history.history['categorical_accuracy'], 'g', label='Training Accuracy')\n",
    "plt.plot(epochs, history.history['val_categorical_accuracy'], 'b', label='Testing Accuracy')\n",
    "plt.xlabel('Epochs', size=12)\n",
    "plt.ylabel('Accuracy', size=12)\n",
    "plt.title('Training and Testing Accuracy', size=17)\n",
    "plt.legend()\n",
    "\n",
    "plt.subplot(2, 2, 3)\n",
    "plt.plot(epochs, history.history['recall'], 'g', label='Training Recall')\n",
    "plt.plot(epochs, history.history['val_recall'], 'b', label='Testing Recall')\n",
    "plt.xlabel('Epochs', size=12)\n",
    "plt.ylabel('Recall', size=12)\n",
    "plt.title('Training and Testing Recall', size=17)\n",
    "plt.legend()\n",
    "\n",
    "plt.subplot(2, 2, 4)\n",
    "plt.plot(epochs, history.history['precision'], 'g', label='Training Precision')\n",
    "plt.plot(epochs, history.history['val_precision'], 'b', label='Testing Precision')\n",
    "plt.xlabel('Epochs', size=12)\n",
    "plt.ylabel('Precision', size=12)\n",
    "plt.title('Training and Testing Precision', size=17)\n",
    "plt.legend()\n",
    "\n",
    "plt.suptitle('EfficientNet-B0', size = 20)\n",
    "plt.show()"
   ]
  },
  {
   "cell_type": "markdown",
   "metadata": {
    "id": "hvL0gz0c7KSp"
   },
   "source": [
    "### confusion matrix"
   ]
  },
  {
   "cell_type": "code",
   "execution_count": 26,
   "metadata": {
    "executionInfo": {
     "elapsed": 29732,
     "status": "ok",
     "timestamp": 1616528735180,
     "user": {
      "displayName": "Adeel Intizar",
      "photoUrl": "",
      "userId": "09186370397825092328"
     },
     "user_tz": -300
    },
    "id": "fJY6FCpb7Jr0"
   },
   "outputs": [],
   "source": [
    "batch_size = 256\n",
    "train_gen = data_generator.generate_images(train_idx, is_training=False, batch_size=batch_size)\n",
    "val_gen = data_generator.generate_images(valid_idx[:2560], is_training=False, batch_size=batch_size)"
   ]
  },
  {
   "cell_type": "code",
   "execution_count": 27,
   "metadata": {
    "executionInfo": {
     "elapsed": 41248,
     "status": "ok",
     "timestamp": 1616528749459,
     "user": {
      "displayName": "Adeel Intizar",
      "photoUrl": "",
      "userId": "09186370397825092328"
     },
     "user_tz": -300
    },
    "id": "n1LxqYXy7yeA"
   },
   "outputs": [],
   "source": [
    "import tensorflow as tf\n",
    "from tensorflow_addons.metrics import F1Score\n",
    "from tensorflow.math import confusion_matrix\n",
    "\n",
    "Model_name = \"Adience_B0\"\n",
    "model = tf.keras.models.load_model(f'/content/drive/MyDrive/Adience/{Model_name}.h5', custom_objects={'f1_score':F1Score(8)})"
   ]
  },
  {
   "cell_type": "code",
   "execution_count": 28,
   "metadata": {
    "executionInfo": {
     "elapsed": 1470,
     "status": "ok",
     "timestamp": 1616528750687,
     "user": {
      "displayName": "Adeel Intizar",
      "photoUrl": "",
      "userId": "09186370397825092328"
     },
     "user_tz": -300
    },
    "id": "NJh5xit3dTik"
   },
   "outputs": [],
   "source": [
    "y_true = data_generator.get_labels(valid_idx[:2304])"
   ]
  },
  {
   "cell_type": "code",
   "execution_count": 29,
   "metadata": {
    "executionInfo": {
     "elapsed": 15949,
     "status": "ok",
     "timestamp": 1616528778394,
     "user": {
      "displayName": "Adeel Intizar",
      "photoUrl": "",
      "userId": "09186370397825092328"
     },
     "user_tz": -300
    },
    "id": "mGbyT7Lx7yYJ"
   },
   "outputs": [],
   "source": [
    "y_pred = model.predict(val_gen)\n",
    "y_true = np.array(y_true)"
   ]
  },
  {
   "cell_type": "code",
   "execution_count": 30,
   "metadata": {
    "colab": {
     "base_uri": "https://localhost:8080/"
    },
    "executionInfo": {
     "elapsed": 14198,
     "status": "ok",
     "timestamp": 1616528778398,
     "user": {
      "displayName": "Adeel Intizar",
      "photoUrl": "",
      "userId": "09186370397825092328"
     },
     "user_tz": -300
    },
    "id": "qMgLCLew7ySv",
    "outputId": "d200a587-4e32-48e5-f7b6-d087ebb773cd"
   },
   "outputs": [
    {
     "name": "stdout",
     "output_type": "stream",
     "text": [
      "(2304,)\n",
      "(2304,)\n"
     ]
    }
   ],
   "source": [
    "temp_y_pred = np.argmax(y_pred, axis=1)\n",
    "temp_y_true = np.argmax(y_true, axis=1)\n",
    "\n",
    "print(temp_y_pred.shape)\n",
    "print(temp_y_true.shape)"
   ]
  },
  {
   "cell_type": "code",
   "execution_count": 31,
   "metadata": {
    "colab": {
     "base_uri": "https://localhost:8080/"
    },
    "executionInfo": {
     "elapsed": 9539,
     "status": "ok",
     "timestamp": 1616528778399,
     "user": {
      "displayName": "Adeel Intizar",
      "photoUrl": "",
      "userId": "09186370397825092328"
     },
     "user_tz": -300
    },
    "id": "U4pcJZZn782z",
    "outputId": "71ead6e3-7ebd-41c9-ffeb-2fe13c917aec"
   },
   "outputs": [
    {
     "data": {
      "text/plain": [
       "<tf.Tensor: shape=(8, 8), dtype=int32, numpy=\n",
       "array([[241,  21,   0,   1,   1,   0,   0,   0],\n",
       "       [ 34, 196,  21,   3,   3,   0,   0,   1],\n",
       "       [  3,  25, 211,  14,  19,   3,   2,   0],\n",
       "       [  1,   1,  16, 154,  48,  12,   0,   0],\n",
       "       [  1,   5,  15,  32, 629,  61,   3,   1],\n",
       "       [  0,   0,   5,   8,  75, 194,   9,  14],\n",
       "       [  0,   2,   0,   2,  18,  46,  44,  21],\n",
       "       [  0,   0,   0,   0,   3,  10,  15,  60]], dtype=int32)>"
      ]
     },
     "execution_count": 31,
     "metadata": {
      "tags": []
     },
     "output_type": "execute_result"
    }
   ],
   "source": [
    "confusion_matrix(temp_y_true, temp_y_pred)"
   ]
  }
 ],
 "metadata": {
  "accelerator": "GPU",
  "colab": {
   "collapsed_sections": [],
   "name": "Adience_B0.ipynb",
   "provenance": []
  },
  "kernelspec": {
   "display_name": "Python 3",
   "language": "python",
   "name": "python3"
  },
  "language_info": {
   "codemirror_mode": {
    "name": "ipython",
    "version": 3
   },
   "file_extension": ".py",
   "mimetype": "text/x-python",
   "name": "python",
   "nbconvert_exporter": "python",
   "pygments_lexer": "ipython3",
   "version": "3.6.5"
  }
 },
 "nbformat": 4,
 "nbformat_minor": 1
}
